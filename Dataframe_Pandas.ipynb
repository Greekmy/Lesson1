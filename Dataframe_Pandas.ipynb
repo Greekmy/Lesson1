{
  "nbformat": 4,
  "nbformat_minor": 0,
  "metadata": {
    "colab": {
      "name": "Dataframe-Pandas.ipynb",
      "provenance": [],
      "authorship_tag": "ABX9TyOh1kIKoTQgy9lEa6v39uY0",
      "include_colab_link": true
    },
    "kernelspec": {
      "name": "python3",
      "display_name": "Python 3"
    },
    "language_info": {
      "name": "python"
    }
  },
  "cells": [
    {
      "cell_type": "markdown",
      "metadata": {
        "id": "view-in-github",
        "colab_type": "text"
      },
      "source": [
        "<a href=\"https://colab.research.google.com/github/Greekmy/python/blob/main/Dataframe_Pandas.ipynb\" target=\"_parent\"><img src=\"https://colab.research.google.com/assets/colab-badge.svg\" alt=\"Open In Colab\"/></a>"
      ]
    },
    {
      "cell_type": "code",
      "execution_count": 1,
      "metadata": {
        "colab": {
          "base_uri": "https://localhost:8080/"
        },
        "id": "6INz7v6lYSOK",
        "outputId": "e5733784-bfe9-499f-9939-f194de1b299c"
      },
      "outputs": [
        {
          "output_type": "stream",
          "name": "stdout",
          "text": [
            "\u001b[K     |████████████████████████████████| 719 kB 3.5 MB/s \n",
            "\u001b[K     |████████████████████████████████| 365 kB 37.5 MB/s \n",
            "\u001b[K     |████████████████████████████████| 4.7 MB 17.3 MB/s \n",
            "\u001b[K     |████████████████████████████████| 1.3 MB 15.7 MB/s \n",
            "\u001b[K     |████████████████████████████████| 115 kB 47.3 MB/s \n",
            "\u001b[K     |████████████████████████████████| 101 kB 3.2 MB/s \n",
            "\u001b[K     |████████████████████████████████| 141 kB 49.6 MB/s \n",
            "\u001b[K     |████████████████████████████████| 212 kB 51.7 MB/s \n",
            "\u001b[K     |████████████████████████████████| 596 kB 37.0 MB/s \n",
            "\u001b[K     |████████████████████████████████| 127 kB 48.8 MB/s \n",
            "\u001b[K     |████████████████████████████████| 6.6 MB 28.3 MB/s \n",
            "\u001b[?25hMounted at /content/gdrive\n"
          ]
        }
      ],
      "source": [
        "! [ -e /content ] && pip install -Uqq fastbook\n",
        "import fastbook\n",
        "fastbook.setup_book()\n",
        "from fastbook import *"
      ]
    },
    {
      "cell_type": "code",
      "source": [
        "import pandas as pd\n",
        "temperatures = pd.Series([23, 20, 25, 18])\n",
        "temperatures"
      ],
      "metadata": {
        "colab": {
          "base_uri": "https://localhost:8080/"
        },
        "id": "fedqm8t9ZWFB",
        "outputId": "f4a198f4-69de-4939-a7d3-a2ec360b2ae6"
      },
      "execution_count": 2,
      "outputs": [
        {
          "output_type": "execute_result",
          "data": {
            "text/plain": [
              "0    23\n",
              "1    20\n",
              "2    25\n",
              "3    18\n",
              "dtype: int64"
            ]
          },
          "metadata": {},
          "execution_count": 2
        }
      ]
    },
    {
      "cell_type": "code",
      "source": [
        "temperatures = pd.Series([23, 20, 25, 18], index=['TOP', 'OUN', 'DAL', 'DEN'])\n",
        "temperatures\n",
        "temperatures['DAL']\n",
        "temperatures[['DAL', 'OUN']]\n",
        "temperatures[temperatures > 20]\n",
        "temperatures + 2\n",
        "dps = {'TOP': 14,\n",
        "       'OUN': 18,\n",
        "       'DEN': 9,\n",
        "       'PHX': 11,\n",
        "       'DAL': 23}\n",
        "\n",
        "dewpoints = pd.Series(dps)\n",
        "dewpoints\n"
      ],
      "metadata": {
        "colab": {
          "base_uri": "https://localhost:8080/"
        },
        "id": "dWewhOqHZbwe",
        "outputId": "c2766d3c-add3-4dc4-c621-7c56e5984574"
      },
      "execution_count": 8,
      "outputs": [
        {
          "output_type": "execute_result",
          "data": {
            "text/plain": [
              "TOP    14\n",
              "OUN    18\n",
              "DEN     9\n",
              "PHX    11\n",
              "DAL    23\n",
              "dtype: int64"
            ]
          },
          "metadata": {},
          "execution_count": 8
        }
      ]
    },
    {
      "cell_type": "code",
      "source": [
        "dps = {'TOP': 14,\n",
        "       'OUN': 18,\n",
        "       'DEN': 9,\n",
        "       'PHX': 11,\n",
        "       'DAL': 23}\n",
        "\n",
        "dewpoints = pd.Series(dps)\n",
        "dewpoints"
      ],
      "metadata": {
        "colab": {
          "base_uri": "https://localhost:8080/"
        },
        "id": "SxNplGOHaL8z",
        "outputId": "e5dc38bb-0864-403e-8c11-4d0b127724c2"
      },
      "execution_count": 9,
      "outputs": [
        {
          "output_type": "execute_result",
          "data": {
            "text/plain": [
              "TOP    14\n",
              "OUN    18\n",
              "DEN     9\n",
              "PHX    11\n",
              "DAL    23\n",
              "dtype: int64"
            ]
          },
          "metadata": {},
          "execution_count": 9
        }
      ]
    },
    {
      "cell_type": "code",
      "source": [
        "'PHX' in dewpoints\n",
        "'PHX' in temperatures\n"
      ],
      "metadata": {
        "colab": {
          "base_uri": "https://localhost:8080/"
        },
        "id": "1Mwy60UNaNbA",
        "outputId": "5570e9f5-cd2d-408a-8d35-f80b02d2c8fb"
      },
      "execution_count": 11,
      "outputs": [
        {
          "output_type": "execute_result",
          "data": {
            "text/plain": [
              "False"
            ]
          },
          "metadata": {},
          "execution_count": 11
        }
      ]
    },
    {
      "cell_type": "code",
      "source": [
        "temperatures.name = 'temperature'\n",
        "temperatures.index.name = 'station'"
      ],
      "metadata": {
        "id": "s4jwSNu3aWal"
      },
      "execution_count": 12,
      "outputs": []
    },
    {
      "cell_type": "code",
      "source": [
        "temperatures\n"
      ],
      "metadata": {
        "colab": {
          "base_uri": "https://localhost:8080/"
        },
        "id": "az3Lj3amacLa",
        "outputId": "336c3e91-0de2-4e35-be48-9293c1cfb36e"
      },
      "execution_count": 13,
      "outputs": [
        {
          "output_type": "execute_result",
          "data": {
            "text/plain": [
              "station\n",
              "TOP    23\n",
              "OUN    20\n",
              "DAL    25\n",
              "DEN    18\n",
              "Name: temperature, dtype: int64"
            ]
          },
          "metadata": {},
          "execution_count": 13
        }
      ]
    },
    {
      "cell_type": "code",
      "source": [
        "dps = {'TOP': 4,\n",
        "       'OUN': 8,\n",
        "       'DEN': 9,\n",
        "       'DAL': 23}\n",
        "\n",
        "pressure = pd.Series(dps)\n",
        "pressure\n",
        "pressure.name = 'pressure'\n",
        "pressure.index.name = 'station'\n",
        "print(pressure[dewpoints > 15])\n"
      ],
      "metadata": {
        "colab": {
          "base_uri": "https://localhost:8080/"
        },
        "id": "v7jfF8dKasvr",
        "outputId": "1a4f65b3-612c-44d6-809e-608f92ac0bd5"
      },
      "execution_count": 17,
      "outputs": [
        {
          "output_type": "stream",
          "name": "stdout",
          "text": [
            "station\n",
            "DAL    23\n",
            "Name: pressure, dtype: int64\n"
          ]
        }
      ]
    },
    {
      "cell_type": "code",
      "source": [
        "data = {'station': ['TOP', 'OUN', 'DEN', 'DAL'],\n",
        "        'temperature': [23, 20, 25, 18],\n",
        "        'dewpoint': [14, 18, 9, 23]}\n",
        "\n",
        "df = pd.DataFrame(data)\n",
        "df\n",
        "#Similar show\n",
        "df['temperature']\n",
        "df.dewpoint\n",
        "df['wspeed'] = 0.\n",
        "df\n",
        "df.index = df.station\n",
        "df\n",
        "df = df.drop('station', axis='columns')\n",
        "df\n",
        "df['pressure'] = pd.Series([1010,1000,998,1018], index=['DEN','TOP','DAL','OUN'])\n",
        "df\n",
        "#Row of the data frame\n",
        "df.loc['DEN']\n",
        "df.T\n",
        "df.values #matrix format\n",
        "df.temperature.values#\n",
        "\n"
      ],
      "metadata": {
        "colab": {
          "base_uri": "https://localhost:8080/"
        },
        "id": "12_ivMMua_HM",
        "outputId": "a8c07daa-22c4-412a-d6a6-64d46c598316"
      },
      "execution_count": 42,
      "outputs": [
        {
          "output_type": "execute_result",
          "data": {
            "text/plain": [
              "array([23, 20, 25, 18])"
            ]
          },
          "metadata": {},
          "execution_count": 42
        }
      ]
    },
    {
      "cell_type": "code",
      "source": [
        "#Important\n",
        "df['rainfall'] = pd.Series([30,100,9,10], index=['DEN','TOP','DAL','OUN'])\n",
        "df\n",
        "df['rain'] = [0, 0.4, 0.2, 0]\n",
        "df.dewpoint = df.dewpoint - 2\n",
        "df"
      ],
      "metadata": {
        "colab": {
          "base_uri": "https://localhost:8080/",
          "height": 206
        },
        "id": "0KqaNRV_ekW0",
        "outputId": "f874d230-1c47-4e44-fda7-5b4722127ae8"
      },
      "execution_count": 46,
      "outputs": [
        {
          "output_type": "execute_result",
          "data": {
            "text/plain": [
              "         temperature  dewpoint  wspeed  pressure  rainfall  rain\n",
              "station                                                         \n",
              "TOP               23        10     0.0      1000       100   0.0\n",
              "OUN               20        14     0.0      1018        10   0.4\n",
              "DEN               25         5     0.0      1010        30   0.2\n",
              "DAL               18        19     0.0       998         9   0.0"
            ],
            "text/html": [
              "\n",
              "  <div id=\"df-c0a3d45a-9da8-4dc0-9677-6c451bdc0dee\">\n",
              "    <div class=\"colab-df-container\">\n",
              "      <div>\n",
              "<style scoped>\n",
              "    .dataframe tbody tr th:only-of-type {\n",
              "        vertical-align: middle;\n",
              "    }\n",
              "\n",
              "    .dataframe tbody tr th {\n",
              "        vertical-align: top;\n",
              "    }\n",
              "\n",
              "    .dataframe thead th {\n",
              "        text-align: right;\n",
              "    }\n",
              "</style>\n",
              "<table border=\"1\" class=\"dataframe\">\n",
              "  <thead>\n",
              "    <tr style=\"text-align: right;\">\n",
              "      <th></th>\n",
              "      <th>temperature</th>\n",
              "      <th>dewpoint</th>\n",
              "      <th>wspeed</th>\n",
              "      <th>pressure</th>\n",
              "      <th>rainfall</th>\n",
              "      <th>rain</th>\n",
              "    </tr>\n",
              "    <tr>\n",
              "      <th>station</th>\n",
              "      <th></th>\n",
              "      <th></th>\n",
              "      <th></th>\n",
              "      <th></th>\n",
              "      <th></th>\n",
              "      <th></th>\n",
              "    </tr>\n",
              "  </thead>\n",
              "  <tbody>\n",
              "    <tr>\n",
              "      <th>TOP</th>\n",
              "      <td>23</td>\n",
              "      <td>10</td>\n",
              "      <td>0.0</td>\n",
              "      <td>1000</td>\n",
              "      <td>100</td>\n",
              "      <td>0.0</td>\n",
              "    </tr>\n",
              "    <tr>\n",
              "      <th>OUN</th>\n",
              "      <td>20</td>\n",
              "      <td>14</td>\n",
              "      <td>0.0</td>\n",
              "      <td>1018</td>\n",
              "      <td>10</td>\n",
              "      <td>0.4</td>\n",
              "    </tr>\n",
              "    <tr>\n",
              "      <th>DEN</th>\n",
              "      <td>25</td>\n",
              "      <td>5</td>\n",
              "      <td>0.0</td>\n",
              "      <td>1010</td>\n",
              "      <td>30</td>\n",
              "      <td>0.2</td>\n",
              "    </tr>\n",
              "    <tr>\n",
              "      <th>DAL</th>\n",
              "      <td>18</td>\n",
              "      <td>19</td>\n",
              "      <td>0.0</td>\n",
              "      <td>998</td>\n",
              "      <td>9</td>\n",
              "      <td>0.0</td>\n",
              "    </tr>\n",
              "  </tbody>\n",
              "</table>\n",
              "</div>\n",
              "      <button class=\"colab-df-convert\" onclick=\"convertToInteractive('df-c0a3d45a-9da8-4dc0-9677-6c451bdc0dee')\"\n",
              "              title=\"Convert this dataframe to an interactive table.\"\n",
              "              style=\"display:none;\">\n",
              "        \n",
              "  <svg xmlns=\"http://www.w3.org/2000/svg\" height=\"24px\"viewBox=\"0 0 24 24\"\n",
              "       width=\"24px\">\n",
              "    <path d=\"M0 0h24v24H0V0z\" fill=\"none\"/>\n",
              "    <path d=\"M18.56 5.44l.94 2.06.94-2.06 2.06-.94-2.06-.94-.94-2.06-.94 2.06-2.06.94zm-11 1L8.5 8.5l.94-2.06 2.06-.94-2.06-.94L8.5 2.5l-.94 2.06-2.06.94zm10 10l.94 2.06.94-2.06 2.06-.94-2.06-.94-.94-2.06-.94 2.06-2.06.94z\"/><path d=\"M17.41 7.96l-1.37-1.37c-.4-.4-.92-.59-1.43-.59-.52 0-1.04.2-1.43.59L10.3 9.45l-7.72 7.72c-.78.78-.78 2.05 0 2.83L4 21.41c.39.39.9.59 1.41.59.51 0 1.02-.2 1.41-.59l7.78-7.78 2.81-2.81c.8-.78.8-2.07 0-2.86zM5.41 20L4 18.59l7.72-7.72 1.47 1.35L5.41 20z\"/>\n",
              "  </svg>\n",
              "      </button>\n",
              "      \n",
              "  <style>\n",
              "    .colab-df-container {\n",
              "      display:flex;\n",
              "      flex-wrap:wrap;\n",
              "      gap: 12px;\n",
              "    }\n",
              "\n",
              "    .colab-df-convert {\n",
              "      background-color: #E8F0FE;\n",
              "      border: none;\n",
              "      border-radius: 50%;\n",
              "      cursor: pointer;\n",
              "      display: none;\n",
              "      fill: #1967D2;\n",
              "      height: 32px;\n",
              "      padding: 0 0 0 0;\n",
              "      width: 32px;\n",
              "    }\n",
              "\n",
              "    .colab-df-convert:hover {\n",
              "      background-color: #E2EBFA;\n",
              "      box-shadow: 0px 1px 2px rgba(60, 64, 67, 0.3), 0px 1px 3px 1px rgba(60, 64, 67, 0.15);\n",
              "      fill: #174EA6;\n",
              "    }\n",
              "\n",
              "    [theme=dark] .colab-df-convert {\n",
              "      background-color: #3B4455;\n",
              "      fill: #D2E3FC;\n",
              "    }\n",
              "\n",
              "    [theme=dark] .colab-df-convert:hover {\n",
              "      background-color: #434B5C;\n",
              "      box-shadow: 0px 1px 3px 1px rgba(0, 0, 0, 0.15);\n",
              "      filter: drop-shadow(0px 1px 2px rgba(0, 0, 0, 0.3));\n",
              "      fill: #FFFFFF;\n",
              "    }\n",
              "  </style>\n",
              "\n",
              "      <script>\n",
              "        const buttonEl =\n",
              "          document.querySelector('#df-c0a3d45a-9da8-4dc0-9677-6c451bdc0dee button.colab-df-convert');\n",
              "        buttonEl.style.display =\n",
              "          google.colab.kernel.accessAllowed ? 'block' : 'none';\n",
              "\n",
              "        async function convertToInteractive(key) {\n",
              "          const element = document.querySelector('#df-c0a3d45a-9da8-4dc0-9677-6c451bdc0dee');\n",
              "          const dataTable =\n",
              "            await google.colab.kernel.invokeFunction('convertToInteractive',\n",
              "                                                     [key], {});\n",
              "          if (!dataTable) return;\n",
              "\n",
              "          const docLinkHtml = 'Like what you see? Visit the ' +\n",
              "            '<a target=\"_blank\" href=https://colab.research.google.com/notebooks/data_table.ipynb>data table notebook</a>'\n",
              "            + ' to learn more about interactive tables.';\n",
              "          element.innerHTML = '';\n",
              "          dataTable['output_type'] = 'display_data';\n",
              "          await google.colab.output.renderOutput(dataTable, element);\n",
              "          const docLink = document.createElement('div');\n",
              "          docLink.innerHTML = docLinkHtml;\n",
              "          element.appendChild(docLink);\n",
              "        }\n",
              "      </script>\n",
              "    </div>\n",
              "  </div>\n",
              "  "
            ]
          },
          "metadata": {},
          "execution_count": 46
        }
      ]
    },
    {
      "cell_type": "code",
      "source": [
        "import pandas as pd\n",
        "!ls\n",
        "!wget https://github.com/Unidata/python-workshop/blob/master/notebooks/Pandas/Jan17_CO_ASOS.txt\n",
        "df = pd.read_csv('Jan17_CO_ASOS.txt', sep='\\t')\n",
        "df"
      ],
      "metadata": {
        "colab": {
          "base_uri": "https://localhost:8080/",
          "height": 726
        },
        "id": "4ICFJbKYfMC9",
        "outputId": "2de8d042-f634-4aaf-bbf0-99cf4946761e"
      },
      "execution_count": 56,
      "outputs": [
        {
          "output_type": "stream",
          "name": "stdout",
          "text": [
            "gdrive\tJan17_CO_ASOS.txt  Jan17_CO_ASOS.txt.1\tsample_data\n",
            "--2022-08-13 23:20:04--  https://github.com/Unidata/python-workshop/blob/master/notebooks/Pandas/Jan17_CO_ASOS.txt\n",
            "Resolving github.com (github.com)... 140.82.112.3\n",
            "Connecting to github.com (github.com)|140.82.112.3|:443... connected.\n",
            "HTTP request sent, awaiting response... 200 OK\n",
            "Length: unspecified [text/html]\n",
            "Saving to: ‘Jan17_CO_ASOS.txt.2’\n",
            "\n",
            "Jan17_CO_ASOS.txt.2     [ <=>                ] 134.63K  --.-KB/s    in 0.04s   \n",
            "\n",
            "2022-08-13 23:20:04 (3.54 MB/s) - ‘Jan17_CO_ASOS.txt.2’ saved [137864]\n",
            "\n"
          ]
        },
        {
          "output_type": "execute_result",
          "data": {
            "text/plain": [
              "                                                                                                                 <!DOCTYPE html>\n",
              "0     <html lang=\"en\" data-color-mode=\"auto\" data-light-theme=\"light\" data-dark-theme=\"dark\" data-a11y-animated-images=\"system\">\n",
              "1                                                                                                                         <head>\n",
              "2                                                                                                         <meta charset=\"utf-8\">\n",
              "3                                                               <link rel=\"dns-prefetch\" href=\"https://github.githubassets.com\">\n",
              "4                                                         <link rel=\"dns-prefetch\" href=\"https://avatars.githubusercontent.com\">\n",
              "...                                                                                                                          ...\n",
              "1016                                                                                                           </clipboard-copy>\n",
              "1017                                                                                                                      </div>\n",
              "1018                                                                                                                 </template>\n",
              "1019                                                                                                                     </body>\n",
              "1020                                                                                                                     </html>\n",
              "\n",
              "[1021 rows x 1 columns]"
            ],
            "text/html": [
              "\n",
              "  <div id=\"df-46e9aa5c-f1ef-42c5-999d-a52a26720784\">\n",
              "    <div class=\"colab-df-container\">\n",
              "      <div>\n",
              "<style scoped>\n",
              "    .dataframe tbody tr th:only-of-type {\n",
              "        vertical-align: middle;\n",
              "    }\n",
              "\n",
              "    .dataframe tbody tr th {\n",
              "        vertical-align: top;\n",
              "    }\n",
              "\n",
              "    .dataframe thead th {\n",
              "        text-align: right;\n",
              "    }\n",
              "</style>\n",
              "<table border=\"1\" class=\"dataframe\">\n",
              "  <thead>\n",
              "    <tr style=\"text-align: right;\">\n",
              "      <th></th>\n",
              "      <th>&lt;!DOCTYPE html&gt;</th>\n",
              "    </tr>\n",
              "  </thead>\n",
              "  <tbody>\n",
              "    <tr>\n",
              "      <th>0</th>\n",
              "      <td>&lt;html lang=\"en\" data-color-mode=\"auto\" data-light-theme=\"light\" data-dark-theme=\"dark\" data-a11y-animated-images=\"system\"&gt;</td>\n",
              "    </tr>\n",
              "    <tr>\n",
              "      <th>1</th>\n",
              "      <td>&lt;head&gt;</td>\n",
              "    </tr>\n",
              "    <tr>\n",
              "      <th>2</th>\n",
              "      <td>&lt;meta charset=\"utf-8\"&gt;</td>\n",
              "    </tr>\n",
              "    <tr>\n",
              "      <th>3</th>\n",
              "      <td>&lt;link rel=\"dns-prefetch\" href=\"https://github.githubassets.com\"&gt;</td>\n",
              "    </tr>\n",
              "    <tr>\n",
              "      <th>4</th>\n",
              "      <td>&lt;link rel=\"dns-prefetch\" href=\"https://avatars.githubusercontent.com\"&gt;</td>\n",
              "    </tr>\n",
              "    <tr>\n",
              "      <th>...</th>\n",
              "      <td>...</td>\n",
              "    </tr>\n",
              "    <tr>\n",
              "      <th>1016</th>\n",
              "      <td>&lt;/clipboard-copy&gt;</td>\n",
              "    </tr>\n",
              "    <tr>\n",
              "      <th>1017</th>\n",
              "      <td>&lt;/div&gt;</td>\n",
              "    </tr>\n",
              "    <tr>\n",
              "      <th>1018</th>\n",
              "      <td>&lt;/template&gt;</td>\n",
              "    </tr>\n",
              "    <tr>\n",
              "      <th>1019</th>\n",
              "      <td>&lt;/body&gt;</td>\n",
              "    </tr>\n",
              "    <tr>\n",
              "      <th>1020</th>\n",
              "      <td>&lt;/html&gt;</td>\n",
              "    </tr>\n",
              "  </tbody>\n",
              "</table>\n",
              "<p>1021 rows × 1 columns</p>\n",
              "</div>\n",
              "      <button class=\"colab-df-convert\" onclick=\"convertToInteractive('df-46e9aa5c-f1ef-42c5-999d-a52a26720784')\"\n",
              "              title=\"Convert this dataframe to an interactive table.\"\n",
              "              style=\"display:none;\">\n",
              "        \n",
              "  <svg xmlns=\"http://www.w3.org/2000/svg\" height=\"24px\"viewBox=\"0 0 24 24\"\n",
              "       width=\"24px\">\n",
              "    <path d=\"M0 0h24v24H0V0z\" fill=\"none\"/>\n",
              "    <path d=\"M18.56 5.44l.94 2.06.94-2.06 2.06-.94-2.06-.94-.94-2.06-.94 2.06-2.06.94zm-11 1L8.5 8.5l.94-2.06 2.06-.94-2.06-.94L8.5 2.5l-.94 2.06-2.06.94zm10 10l.94 2.06.94-2.06 2.06-.94-2.06-.94-.94-2.06-.94 2.06-2.06.94z\"/><path d=\"M17.41 7.96l-1.37-1.37c-.4-.4-.92-.59-1.43-.59-.52 0-1.04.2-1.43.59L10.3 9.45l-7.72 7.72c-.78.78-.78 2.05 0 2.83L4 21.41c.39.39.9.59 1.41.59.51 0 1.02-.2 1.41-.59l7.78-7.78 2.81-2.81c.8-.78.8-2.07 0-2.86zM5.41 20L4 18.59l7.72-7.72 1.47 1.35L5.41 20z\"/>\n",
              "  </svg>\n",
              "      </button>\n",
              "      \n",
              "  <style>\n",
              "    .colab-df-container {\n",
              "      display:flex;\n",
              "      flex-wrap:wrap;\n",
              "      gap: 12px;\n",
              "    }\n",
              "\n",
              "    .colab-df-convert {\n",
              "      background-color: #E8F0FE;\n",
              "      border: none;\n",
              "      border-radius: 50%;\n",
              "      cursor: pointer;\n",
              "      display: none;\n",
              "      fill: #1967D2;\n",
              "      height: 32px;\n",
              "      padding: 0 0 0 0;\n",
              "      width: 32px;\n",
              "    }\n",
              "\n",
              "    .colab-df-convert:hover {\n",
              "      background-color: #E2EBFA;\n",
              "      box-shadow: 0px 1px 2px rgba(60, 64, 67, 0.3), 0px 1px 3px 1px rgba(60, 64, 67, 0.15);\n",
              "      fill: #174EA6;\n",
              "    }\n",
              "\n",
              "    [theme=dark] .colab-df-convert {\n",
              "      background-color: #3B4455;\n",
              "      fill: #D2E3FC;\n",
              "    }\n",
              "\n",
              "    [theme=dark] .colab-df-convert:hover {\n",
              "      background-color: #434B5C;\n",
              "      box-shadow: 0px 1px 3px 1px rgba(0, 0, 0, 0.15);\n",
              "      filter: drop-shadow(0px 1px 2px rgba(0, 0, 0, 0.3));\n",
              "      fill: #FFFFFF;\n",
              "    }\n",
              "  </style>\n",
              "\n",
              "      <script>\n",
              "        const buttonEl =\n",
              "          document.querySelector('#df-46e9aa5c-f1ef-42c5-999d-a52a26720784 button.colab-df-convert');\n",
              "        buttonEl.style.display =\n",
              "          google.colab.kernel.accessAllowed ? 'block' : 'none';\n",
              "\n",
              "        async function convertToInteractive(key) {\n",
              "          const element = document.querySelector('#df-46e9aa5c-f1ef-42c5-999d-a52a26720784');\n",
              "          const dataTable =\n",
              "            await google.colab.kernel.invokeFunction('convertToInteractive',\n",
              "                                                     [key], {});\n",
              "          if (!dataTable) return;\n",
              "\n",
              "          const docLinkHtml = 'Like what you see? Visit the ' +\n",
              "            '<a target=\"_blank\" href=https://colab.research.google.com/notebooks/data_table.ipynb>data table notebook</a>'\n",
              "            + ' to learn more about interactive tables.';\n",
              "          element.innerHTML = '';\n",
              "          dataTable['output_type'] = 'display_data';\n",
              "          await google.colab.output.renderOutput(dataTable, element);\n",
              "          const docLink = document.createElement('div');\n",
              "          docLink.innerHTML = docLinkHtml;\n",
              "          element.appendChild(docLink);\n",
              "        }\n",
              "      </script>\n",
              "    </div>\n",
              "  </div>\n",
              "  "
            ]
          },
          "metadata": {},
          "execution_count": 56
        }
      ]
    },
    {
      "cell_type": "code",
      "source": [
        "df.head()\n",
        "df = pd.read_csv('Jan17_CO_ASOS.txt', sep='\\t', parse_dates=True)\n",
        "df.head()\n",
        "df = pd.read_csv('Jan17_CO_ASOS.txt', sep='\\t', parse_dates=True, na_values='M')\n",
        "\n",
        "df.head()\n",
        "df.columns\n",
        "df.columns = ['station']\n",
        "df.head()\n",
        "df.columns\n",
        "df.columns = ['station']\n",
        "len(df)\n",
        "\n"
      ],
      "metadata": {
        "colab": {
          "base_uri": "https://localhost:8080/"
        },
        "id": "Xobd52qah2K0",
        "outputId": "9df93d84-f947-4694-d306-b038f76f117b"
      },
      "execution_count": 80,
      "outputs": [
        {
          "output_type": "execute_result",
          "data": {
            "text/plain": [
              "1021"
            ]
          },
          "metadata": {},
          "execution_count": 80
        }
      ]
    }
  ]
}