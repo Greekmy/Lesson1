{
  "nbformat": 4,
  "nbformat_minor": 0,
  "metadata": {
    "colab": {
      "name": "numpyvector-broadcasting.ipynb",
      "provenance": [],
      "authorship_tag": "ABX9TyP2+k3I07wGywfqnhCMzueD",
      "include_colab_link": true
    },
    "kernelspec": {
      "name": "python3",
      "display_name": "Python 3"
    },
    "language_info": {
      "name": "python"
    }
  },
  "cells": [
    {
      "cell_type": "markdown",
      "metadata": {
        "id": "view-in-github",
        "colab_type": "text"
      },
      "source": [
        "<a href=\"https://colab.research.google.com/github/Greekmy/python/blob/main/numpyvector_broadcasting.ipynb\" target=\"_parent\"><img src=\"https://colab.research.google.com/assets/colab-badge.svg\" alt=\"Open In Colab\"/></a>"
      ]
    },
    {
      "cell_type": "code",
      "execution_count": 1,
      "metadata": {
        "colab": {
          "base_uri": "https://localhost:8080/"
        },
        "id": "xC0h5CwBjGKB",
        "outputId": "3d5781b3-8e69-4997-ab08-4b451201ee5c"
      },
      "outputs": [
        {
          "output_type": "execute_result",
          "data": {
            "text/plain": [
              "array([15, 25, 35, 45])"
            ]
          },
          "metadata": {},
          "execution_count": 1
        }
      ],
      "source": [
        "import numpy as np\n",
        "\n",
        "a = np.array([10, 20, 30, 40])\n",
        "a + 5"
      ]
    },
    {
      "cell_type": "code",
      "source": [
        "b = np.array([5])\n",
        "a + b"
      ],
      "metadata": {
        "colab": {
          "base_uri": "https://localhost:8080/"
        },
        "id": "r1d5TShamlXG",
        "outputId": "c0ded7b0-7ecd-4d5d-f6c6-27709ecb28de"
      },
      "execution_count": 2,
      "outputs": [
        {
          "output_type": "execute_result",
          "data": {
            "text/plain": [
              "array([15, 25, 35, 45])"
            ]
          },
          "metadata": {},
          "execution_count": 2
        }
      ]
    },
    {
      "cell_type": "code",
      "source": [
        "b = np.array([5, 5, 10, 10])\n",
        "a + b"
      ],
      "metadata": {
        "colab": {
          "base_uri": "https://localhost:8080/"
        },
        "id": "mWqfYe7Vmnww",
        "outputId": "64a20a5c-e818-48d5-f093-91dfcf28636b"
      },
      "execution_count": 3,
      "outputs": [
        {
          "output_type": "execute_result",
          "data": {
            "text/plain": [
              "array([15, 25, 40, 50])"
            ]
          },
          "metadata": {},
          "execution_count": 3
        }
      ]
    },
    {
      "cell_type": "code",
      "source": [
        "b = np.array([1, 2, 3, 4, 5])\n"
      ],
      "metadata": {
        "id": "wOPetRnKmqq_"
      },
      "execution_count": 4,
      "outputs": []
    },
    {
      "cell_type": "code",
      "source": [
        "result = np.empty((5, 4), dtype=np.int32)\n",
        "for row, valb in enumerate(b):\n",
        "    for col, vala in enumerate(a):\n",
        "        result[row, col] = vala + valb\n",
        "result"
      ],
      "metadata": {
        "colab": {
          "base_uri": "https://localhost:8080/"
        },
        "id": "0fSEHlw4mzZk",
        "outputId": "ed6dde36-206e-46a6-8fce-3d5eb2d4296a"
      },
      "execution_count": 5,
      "outputs": [
        {
          "output_type": "execute_result",
          "data": {
            "text/plain": [
              "array([[11, 21, 31, 41],\n",
              "       [12, 22, 32, 42],\n",
              "       [13, 23, 33, 43],\n",
              "       [14, 24, 34, 44],\n",
              "       [15, 25, 35, 45]], dtype=int32)"
            ]
          },
          "metadata": {},
          "execution_count": 5
        }
      ]
    },
    {
      "cell_type": "code",
      "source": [
        "aa = np.tile(a, (5, 1))\n",
        "aa"
      ],
      "metadata": {
        "colab": {
          "base_uri": "https://localhost:8080/"
        },
        "id": "GQhFVBKhm510",
        "outputId": "d9d6730b-a07d-4013-95c6-1ce77f7e980c"
      },
      "execution_count": 6,
      "outputs": [
        {
          "output_type": "execute_result",
          "data": {
            "text/plain": [
              "array([[10, 20, 30, 40],\n",
              "       [10, 20, 30, 40],\n",
              "       [10, 20, 30, 40],\n",
              "       [10, 20, 30, 40],\n",
              "       [10, 20, 30, 40]])"
            ]
          },
          "metadata": {},
          "execution_count": 6
        }
      ]
    },
    {
      "cell_type": "code",
      "source": [
        "# Turn b into a column array, then tile it\n",
        "bb = np.tile(b.reshape(5, 1), (1, 4))\n",
        "bb"
      ],
      "metadata": {
        "colab": {
          "base_uri": "https://localhost:8080/"
        },
        "id": "_-_lrZeGm-aN",
        "outputId": "6d450f7b-f6a3-41ac-aaa3-a54e8d5d53fa"
      },
      "execution_count": 7,
      "outputs": [
        {
          "output_type": "execute_result",
          "data": {
            "text/plain": [
              "array([[1, 1, 1, 1],\n",
              "       [2, 2, 2, 2],\n",
              "       [3, 3, 3, 3],\n",
              "       [4, 4, 4, 4],\n",
              "       [5, 5, 5, 5]])"
            ]
          },
          "metadata": {},
          "execution_count": 7
        }
      ]
    },
    {
      "cell_type": "code",
      "source": [
        "aa + bb\n"
      ],
      "metadata": {
        "colab": {
          "base_uri": "https://localhost:8080/"
        },
        "id": "9j_hydzSnANK",
        "outputId": "cca286f9-3a7f-4ab3-898c-8e0a3644e333"
      },
      "execution_count": 8,
      "outputs": [
        {
          "output_type": "execute_result",
          "data": {
            "text/plain": [
              "array([[11, 21, 31, 41],\n",
              "       [12, 22, 32, 42],\n",
              "       [13, 23, 33, 43],\n",
              "       [14, 24, 34, 44],\n",
              "       [15, 25, 35, 45]])"
            ]
          },
          "metadata": {},
          "execution_count": 8
        }
      ]
    },
    {
      "cell_type": "code",
      "source": [
        "a.shape\n",
        "b.shape\n"
      ],
      "metadata": {
        "colab": {
          "base_uri": "https://localhost:8080/"
        },
        "id": "7K9AXVlsnD-1",
        "outputId": "d61b9d9e-f4b5-4489-fb67-fcc28bca805a"
      },
      "execution_count": 9,
      "outputs": [
        {
          "output_type": "execute_result",
          "data": {
            "text/plain": [
              "(5,)"
            ]
          },
          "metadata": {},
          "execution_count": 9
        }
      ]
    },
    {
      "cell_type": "code",
      "source": [
        "bb = b[:, np.newaxis]\n",
        "bb.shape"
      ],
      "metadata": {
        "colab": {
          "base_uri": "https://localhost:8080/"
        },
        "id": "0R2OXm6HnHzI",
        "outputId": "f386c41a-40d4-483e-a74c-de2a0e5b0131"
      },
      "execution_count": 10,
      "outputs": [
        {
          "output_type": "execute_result",
          "data": {
            "text/plain": [
              "(5, 1)"
            ]
          },
          "metadata": {},
          "execution_count": 10
        }
      ]
    },
    {
      "cell_type": "code",
      "source": [
        "a + bb\n",
        "x = np.array([1, 2])\n",
        "y = np.array([3, 4, 5])\n",
        "z = np.array([6, 7, 8, 9])"
      ],
      "metadata": {
        "id": "-UyJVI7QnLFW"
      },
      "execution_count": 11,
      "outputs": []
    },
    {
      "cell_type": "code",
      "source": [
        "d_2d = x[:, np.newaxis]**2 + y**2\n",
        "d_2d\n",
        "d_2d.shape\n",
        "\n"
      ],
      "metadata": {
        "colab": {
          "base_uri": "https://localhost:8080/"
        },
        "id": "kcpaRIwAnQg7",
        "outputId": "7372d6a1-eeaa-4857-b8e0-d88799b3e5c5"
      },
      "execution_count": 14,
      "outputs": [
        {
          "output_type": "execute_result",
          "data": {
            "text/plain": [
              "(2, 3)"
            ]
          },
          "metadata": {},
          "execution_count": 14
        }
      ]
    },
    {
      "cell_type": "code",
      "source": [
        "d_3d = d_2d[..., np.newaxis] + z**2\n",
        "d_3d.shape\n",
        "\n"
      ],
      "metadata": {
        "colab": {
          "base_uri": "https://localhost:8080/"
        },
        "id": "wRj16WGunW-4",
        "outputId": "a30523e3-69a0-46a3-b88c-362aea68aa7d"
      },
      "execution_count": 16,
      "outputs": [
        {
          "output_type": "execute_result",
          "data": {
            "text/plain": [
              "(2, 3, 4)"
            ]
          },
          "metadata": {},
          "execution_count": 16
        }
      ]
    },
    {
      "cell_type": "code",
      "source": [
        "h = x[:, np.newaxis, np.newaxis]**2 + y[np.newaxis, :, np.newaxis]**2 + z**2\n"
      ],
      "metadata": {
        "id": "OEVMyZmNnblR"
      },
      "execution_count": 17,
      "outputs": []
    },
    {
      "cell_type": "code",
      "source": [
        "h.shape\n",
        "np.all(h == d_3d)\n"
      ],
      "metadata": {
        "colab": {
          "base_uri": "https://localhost:8080/"
        },
        "id": "YrQOSwomnf87",
        "outputId": "504e5c09-bd40-455d-be1c-4bf7b2b72c1b"
      },
      "execution_count": 18,
      "outputs": [
        {
          "output_type": "execute_result",
          "data": {
            "text/plain": [
              "True"
            ]
          },
          "metadata": {},
          "execution_count": 18
        }
      ]
    },
    {
      "cell_type": "code",
      "source": [
        "pressure = np.array([1000, 850, 500, 300])\n",
        "temps = np.linspace(20, 30, 24).reshape(4, 3, 2)"
      ],
      "metadata": {
        "id": "yXl3Urb2niSw"
      },
      "execution_count": 19,
      "outputs": []
    },
    {
      "cell_type": "code",
      "source": [
        "# Create an array for testing\n",
        "a = np.arange(12).reshape(3, 4)\n",
        "a"
      ],
      "metadata": {
        "colab": {
          "base_uri": "https://localhost:8080/"
        },
        "id": "mvX4XJ76p9Cl",
        "outputId": "985b3d12-4d62-4f4e-bed7-293db4c2a7ec"
      },
      "execution_count": 20,
      "outputs": [
        {
          "output_type": "execute_result",
          "data": {
            "text/plain": [
              "array([[ 0,  1,  2,  3],\n",
              "       [ 4,  5,  6,  7],\n",
              "       [ 8,  9, 10, 11]])"
            ]
          },
          "metadata": {},
          "execution_count": 20
        }
      ]
    },
    {
      "cell_type": "code",
      "source": [
        "np.sum(a)\n",
        "a.shape\n",
        "np.sum(a, axis=0)\n",
        "np.sum(a, axis=1)\n"
      ],
      "metadata": {
        "colab": {
          "base_uri": "https://localhost:8080/"
        },
        "id": "PPlWoXJiqyqy",
        "outputId": "28b752a5-94cf-4b1c-c598-601d5849b60a"
      },
      "execution_count": 21,
      "outputs": [
        {
          "output_type": "execute_result",
          "data": {
            "text/plain": [
              "array([ 6, 22, 38])"
            ]
          },
          "metadata": {},
          "execution_count": 21
        }
      ]
    },
    {
      "cell_type": "code",
      "source": [
        "temp = np.random.randn(100, 50)\n",
        "u = np.random.randn(100, 50)\n",
        "v = np.random.randn(100, 50)\n",
        "# Calculate the gradient components\n",
        "gradx, grady = np.gradient(temp)\n",
        "\n",
        "# Turn into an array of vectors:\n",
        "# axis 0 is x position\n",
        "# axis 1 is y position\n",
        "# axis 2 is the vector components\n",
        "grad_vec = np.dstack([gradx, grady])\n",
        "print(grad_vec.shape)\n",
        "\n",
        "# Turn wind components into vector\n",
        "wind_vec = np.dstack([u, v])\n",
        "advec = (wind_vec * -grad_vec).sum(axis=-1)\n",
        "print(advec.shape)"
      ],
      "metadata": {
        "colab": {
          "base_uri": "https://localhost:8080/"
        },
        "id": "4AXa5suSq_O5",
        "outputId": "f3b7f45c-d643-4223-aea3-d841dd16ce1d"
      },
      "execution_count": 23,
      "outputs": [
        {
          "output_type": "stream",
          "name": "stdout",
          "text": [
            "(100, 50, 2)\n",
            "(100, 50)\n"
          ]
        }
      ]
    },
    {
      "cell_type": "code",
      "source": [
        "# Create some synthetic data representing temperature and wind speed data\n",
        "np.random.seed(19990503)  # Make sure we all have the same data\n",
        "temp = (20 * np.cos(np.linspace(0, 2 * np.pi, 100)) +\n",
        "        50 + 2 * np.random.randn(100))\n",
        "spd = (np.abs(10 * np.sin(np.linspace(0, 2 * np.pi, 100)) +\n",
        "              10 + 5 * np.random.randn(100)))"
      ],
      "metadata": {
        "id": "H3JTknW1rYX6"
      },
      "execution_count": 24,
      "outputs": []
    },
    {
      "cell_type": "code",
      "source": [
        "%matplotlib inline\n",
        "import matplotlib.pyplot as plt\n",
        "plt.plot(temp, 'tab:red')\n",
        "plt.plot(spd, 'tab:blue');"
      ],
      "metadata": {
        "colab": {
          "base_uri": "https://localhost:8080/",
          "height": 265
        },
        "id": "_0_LJ17ZraxD",
        "outputId": "9b4c7b82-b7f5-4f99-ab99-2f4d97de8f67"
      },
      "execution_count": 25,
      "outputs": [
        {
          "output_type": "display_data",
          "data": {
            "text/plain": [
              "<Figure size 432x288 with 1 Axes>"
            ],
            "image/png": "[encoded data removed]"
          },
          "metadata": {
            "needs_background": "light"
          }
        }
      ]
    },
    {
      "cell_type": "code",
      "source": [
        "temp > 45\n",
        "print(temp[temp > 45])\n",
        "print(temp[spd > 10])\n",
        "# Make a copy so we don't modify the original data\n",
        "temp2 = temp.copy()\n",
        "\n",
        "# Replace all places where spd is <10 with NaN (not a number) so matplotlib skips it\n",
        "temp2[spd < 10] = np.nan\n",
        "plt.plot(temp2, 'tab:red')\n",
        "print(temp[(temp < 45) & (spd > 10)])\n"
      ],
      "metadata": {
        "colab": {
          "base_uri": "https://localhost:8080/",
          "height": 669
        },
        "id": "n-o8rfpZrdY1",
        "outputId": "cff423ca-b599-4566-c980-5282439bfb67"
      },
      "execution_count": 28,
      "outputs": [
        {
          "output_type": "stream",
          "name": "stdout",
          "text": [
            "[69.89825854 71.52313905 69.90028363 66.73828667 66.77980233 72.91468564\n",
            " 69.34603239 69.09533591 68.27350814 64.33916721 67.49497791 67.05282372\n",
            " 63.51829518 63.54034678 65.46576463 62.99683836 59.27662304 61.29361272\n",
            " 60.51641586 57.46048995 55.19793004 53.07572989 54.47998158 53.09552107\n",
            " 54.59037269 47.84272747 49.1435589  45.87151534 45.11976794 45.009292\n",
            " 46.36021141 46.87557425 47.25668992 50.09599544 53.77789358 50.24073197\n",
            " 54.07629059 51.95065202 55.84827794 57.56967086 57.19572063 61.67658285\n",
            " 56.51474577 59.72166924 62.99403256 63.57569453 64.05984232 60.88258643\n",
            " 65.37759899 63.94115754 65.53070256 67.15175649 66.26468701 67.03811793\n",
            " 69.17773618 69.83571708 70.99586742 66.34971928 67.49905207 69.83593609]\n",
            "[66.73828667 66.77980233 69.34603239 69.09533591 68.27350814 64.33916721\n",
            " 67.49497791 67.05282372 63.51829518 63.54034678 65.46576463 62.99683836\n",
            " 59.27662304 61.29361272 60.51641586 57.46048995 55.19793004 53.07572989\n",
            " 54.47998158 53.09552107 54.59037269 47.84272747 49.1435589  45.87151534\n",
            " 43.95971516 42.72814762 42.45316175 39.2797517  40.23351938 36.77179678\n",
            " 34.43329229 31.42277612 38.97505745 34.10549575 35.70826448 29.01276068\n",
            " 30.31180935 29.31602671 32.84580454 30.76695309 29.11344716 30.16652571\n",
            " 29.91513049 39.51784389 69.17773618 69.83571708 69.83593609]\n",
            "[43.95971516 42.72814762 42.45316175 39.2797517  40.23351938 36.77179678\n",
            " 34.43329229 31.42277612 38.97505745 34.10549575 35.70826448 29.01276068\n",
            " 30.31180935 29.31602671 32.84580454 30.76695309 29.11344716 30.16652571\n",
            " 29.91513049 39.51784389]\n"
          ]
        },
        {
          "output_type": "display_data",
          "data": {
            "text/plain": [
              "<Figure size 432x288 with 1 Axes>"
            ],
            "image/png": "[encoded data removed]"
          },
          "metadata": {
            "needs_background": "light"
          }
        }
      ]
    },
    {
      "cell_type": "code",
      "source": [
        "import numpy as np\n",
        "\n",
        "# Here's the \"data\"\n",
        "np.random.seed(19990503)  # Make sure we all have the same data\n",
        "temp = (20 * np.cos(np.linspace(0, 2 * np.pi, 100)) +\n",
        "        80 + 2 * np.random.randn(100))\n",
        "rh = (np.abs(20 * np.cos(np.linspace(0, 4 * np.pi, 100)) +\n",
        "              50 + 5 * np.random.randn(100)))\n",
        "\n",
        "# Create a mask for the two conditions described above\n",
        "good_heat_index = (temp >= 80) & (rh >= 0.4)\n",
        "\n",
        "# Use this mask to grab the temperature and relative humidity values that together\n",
        "# will give good heat index values\n",
        "print(temp[good_heat_index]) \n",
        "\n",
        "# BONUS POINTS: Plot only the data where heat index is defined by\n",
        "# inverting the mask (using ~mask) and setting invalid values to np.nan\n",
        "temp[~good_heat_index] = np.nan\n",
        "plt.plot(temp, 'tab:red')"
      ],
      "metadata": {
        "colab": {
          "base_uri": "https://localhost:8080/",
          "height": 485
        },
        "id": "FdNW7dz3ruUZ",
        "outputId": "80e0a194-07b7-4460-96f2-9af7658c623c"
      },
      "execution_count": 29,
      "outputs": [
        {
          "output_type": "stream",
          "name": "stdout",
          "text": [
            "[ 99.89825854 101.52313905  99.90028363  96.73828667  96.77980233\n",
            " 102.91468564  99.34603239  99.09533591  98.27350814  94.33916721\n",
            "  97.49497791  97.05282372  93.51829518  93.54034678  95.46576463\n",
            "  92.99683836  89.27662304  91.29361272  90.51641586  87.46048995\n",
            "  85.19793004  83.07572989  84.47998158  83.09552107  84.59037269\n",
            "  80.09599544  83.77789358  80.24073197  84.07629059  81.95065202\n",
            "  85.84827794  87.56967086  87.19572063  91.67658285  86.51474577\n",
            "  89.72166924  92.99403256  93.57569453  94.05984232  90.88258643\n",
            "  95.37759899  93.94115754  95.53070256  97.15175649  96.26468701\n",
            "  97.03811793  99.17773618  99.83571708 100.99586742  96.34971928\n",
            "  97.49905207  99.83593609]\n"
          ]
        },
        {
          "output_type": "execute_result",
          "data": {
            "text/plain": [
              "[<matplotlib.lines.Line2D at 0x7f7cb7dc7e50>]"
            ]
          },
          "metadata": {},
          "execution_count": 29
        },
        {
          "output_type": "display_data",
          "data": {
            "text/plain": [
              "<Figure size 432x288 with 1 Axes>"
            ],
            "image/png": "[encoded data removed]"
          },
          "metadata": {
            "needs_background": "light"
          }
        }
      ]
    },
    {
      "cell_type": "markdown",
      "source": [
        "NumPy Broadcasting and Vectorization\n"
      ],
      "metadata": {
        "id": "H2lFhYyTsAj1"
      }
    },
    {
      "cell_type": "code",
      "source": [
        "import numpy as np\n",
        "\n",
        "a = np.array([10, 20, 30, 40])\n",
        "a + 5"
      ],
      "metadata": {
        "colab": {
          "base_uri": "https://localhost:8080/"
        },
        "id": "P4D2mgc1sD4s",
        "outputId": "a8a1d77a-d40d-47a9-b1fe-945755e76ad6"
      },
      "execution_count": 30,
      "outputs": [
        {
          "output_type": "execute_result",
          "data": {
            "text/plain": [
              "array([15, 25, 35, 45])"
            ]
          },
          "metadata": {},
          "execution_count": 30
        }
      ]
    },
    {
      "cell_type": "code",
      "source": [
        "b = np.array([5])\n",
        "a + b"
      ],
      "metadata": {
        "colab": {
          "base_uri": "https://localhost:8080/"
        },
        "id": "dpAhhGjTsJwI",
        "outputId": "4a02ece8-1283-439c-ee46-13d92f46f3eb"
      },
      "execution_count": 31,
      "outputs": [
        {
          "output_type": "execute_result",
          "data": {
            "text/plain": [
              "array([15, 25, 35, 45])"
            ]
          },
          "metadata": {},
          "execution_count": 31
        }
      ]
    },
    {
      "cell_type": "code",
      "source": [
        "b = np.array([5, 5, 10, 10])\n",
        "a + b"
      ],
      "metadata": {
        "colab": {
          "base_uri": "https://localhost:8080/"
        },
        "id": "V2f1B7Qqsidz",
        "outputId": "4f505a12-70e2-4e6e-d446-e4e3380a35c8"
      },
      "execution_count": 32,
      "outputs": [
        {
          "output_type": "execute_result",
          "data": {
            "text/plain": [
              "array([15, 25, 40, 50])"
            ]
          },
          "metadata": {},
          "execution_count": 32
        }
      ]
    },
    {
      "cell_type": "code",
      "source": [
        "b = np.array([1, 2, 3, 4, 5])\n"
      ],
      "metadata": {
        "id": "VzsvOY5UtLI8"
      },
      "execution_count": 33,
      "outputs": []
    },
    {
      "cell_type": "code",
      "source": [
        "pressure = np.array([1000, 850, 500, 300])\n",
        "temps = np.linspace(20, 30, 24).reshape(4, 3, 2)\n",
        "\n",
        "temps * np.exp(pressure[:, np.newaxis, np.newaxis] / 1000)"
      ],
      "metadata": {
        "colab": {
          "base_uri": "https://localhost:8080/"
        },
        "id": "UX8n5-fKtQPd",
        "outputId": "ca236b1c-2dd8-4930-913b-b40483e363e2"
      },
      "execution_count": 35,
      "outputs": [
        {
          "output_type": "execute_result",
          "data": {
            "text/plain": [
              "array([[[54.36563657, 55.54749823],\n",
              "        [56.7293599 , 57.91122156],\n",
              "        [59.09308323, 60.27494489]],\n",
              "\n",
              "       [[52.89636361, 53.91360137],\n",
              "        [54.93083913, 55.94807689],\n",
              "        [56.96531466, 57.98255242]],\n",
              "\n",
              "       [[41.57644944, 42.29328477],\n",
              "        [43.01012011, 43.72695544],\n",
              "        [44.44379078, 45.16062611]],\n",
              "\n",
              "       [[37.56128856, 38.14818369],\n",
              "        [38.73507883, 39.32197396],\n",
              "        [39.90886909, 40.49576423]]])"
            ]
          },
          "metadata": {},
          "execution_count": 35
        }
      ]
    },
    {
      "cell_type": "code",
      "source": [
        "a = np.linspace(0, 20, 6)\n",
        "a"
      ],
      "metadata": {
        "colab": {
          "base_uri": "https://localhost:8080/"
        },
        "id": "AIR29K9yt3kJ",
        "outputId": "a12a9248-c3ec-454e-dde8-4b5e291a38b5"
      },
      "execution_count": 36,
      "outputs": [
        {
          "output_type": "execute_result",
          "data": {
            "text/plain": [
              "array([ 0.,  4.,  8., 12., 16., 20.])"
            ]
          },
          "metadata": {},
          "execution_count": 36
        }
      ]
    },
    {
      "cell_type": "code",
      "source": [
        "d = np.zeros(a.size - 1)\n",
        "for i in range(len(a) - 1):\n",
        "    d[i] = a[i + 1] - a[i]\n",
        "d"
      ],
      "metadata": {
        "colab": {
          "base_uri": "https://localhost:8080/"
        },
        "id": "3ruThMGht59C",
        "outputId": "9bdaeb81-0274-4b11-8046-b644ffb8e84f"
      },
      "execution_count": 37,
      "outputs": [
        {
          "output_type": "execute_result",
          "data": {
            "text/plain": [
              "array([4., 4., 4., 4., 4.])"
            ]
          },
          "metadata": {},
          "execution_count": 37
        }
      ]
    },
    {
      "cell_type": "code",
      "source": [
        "a[1:]\n"
      ],
      "metadata": {
        "colab": {
          "base_uri": "https://localhost:8080/"
        },
        "id": "j1WEZ0-9t9yg",
        "outputId": "52a20bf3-765d-47f3-a1b3-e217bc97f387"
      },
      "execution_count": 38,
      "outputs": [
        {
          "output_type": "execute_result",
          "data": {
            "text/plain": [
              "array([ 4.,  8., 12., 16., 20.])"
            ]
          },
          "metadata": {},
          "execution_count": 38
        }
      ]
    },
    {
      "cell_type": "code",
      "source": [
        "a[:-1]\n"
      ],
      "metadata": {
        "colab": {
          "base_uri": "https://localhost:8080/"
        },
        "id": "sluM_cbquBtG",
        "outputId": "3fd3f4da-223a-4a55-e972-5a31fbb1280f"
      },
      "execution_count": 39,
      "outputs": [
        {
          "output_type": "execute_result",
          "data": {
            "text/plain": [
              "array([ 0.,  4.,  8., 12., 16.])"
            ]
          },
          "metadata": {},
          "execution_count": 39
        }
      ]
    },
    {
      "cell_type": "code",
      "source": [
        "a[1:] - a[:-1]\n"
      ],
      "metadata": {
        "colab": {
          "base_uri": "https://localhost:8080/"
        },
        "id": "AxrDfw-EuD4g",
        "outputId": "e8fcc830-8a19-48d2-d09b-f2ad023adf8c"
      },
      "execution_count": 40,
      "outputs": [
        {
          "output_type": "execute_result",
          "data": {
            "text/plain": [
              "array([4., 4., 4., 4., 4.])"
            ]
          },
          "metadata": {},
          "execution_count": 40
        }
      ]
    },
    {
      "cell_type": "code",
      "source": [
        "2 * a[1:-1] - a[:-2] - a[2:]"
      ],
      "metadata": {
        "id": "wujbw3IJuGuj"
      },
      "execution_count": null,
      "outputs": []
    },
    {
      "cell_type": "code",
      "source": [
        "temps = np.round(20 + np.random.randn(10) * 5, 1)\n",
        "temps"
      ],
      "metadata": {
        "colab": {
          "base_uri": "https://localhost:8080/"
        },
        "id": "AJSUkeXUuu0H",
        "outputId": "613dabc9-df25-46ab-d62e-f2c6990a04f2"
      },
      "execution_count": 41,
      "outputs": [
        {
          "output_type": "execute_result",
          "data": {
            "text/plain": [
              "array([15.6, 21.9, 21.9, 25.1, 15.8, 24.4, 19.3, 33.6, 16.3, 16. ])"
            ]
          },
          "metadata": {},
          "execution_count": 41
        }
      ]
    },
    {
      "cell_type": "markdown",
      "source": [
        "Writing a loop to take a 3-point running mean of the data. This can be done by iterating over all the point in the array and average the 3 points centered on that point."
      ],
      "metadata": {
        "id": "t04dXFpnvBZy"
      }
    },
    {
      "cell_type": "code",
      "source": [
        "avg = np.zeros_like(temps)\n",
        "# We're just ignoring the edge effects here\n",
        "for i in range(1, len(temps) - 1):\n",
        "    sub = temps[i - 1:i + 2]\n",
        "    avg[i] = sub.mean()"
      ],
      "metadata": {
        "id": "CgIPq9TWuwqh"
      },
      "execution_count": 42,
      "outputs": []
    },
    {
      "cell_type": "code",
      "source": [
        "avg\n"
      ],
      "metadata": {
        "colab": {
          "base_uri": "https://localhost:8080/"
        },
        "id": "l-aXP7WVvGKt",
        "outputId": "a6926de0-db0e-4bbf-db00-098ed109162e"
      },
      "execution_count": 43,
      "outputs": [
        {
          "output_type": "execute_result",
          "data": {
            "text/plain": [
              "array([ 0.        , 19.8       , 22.96666667, 20.93333333, 21.76666667,\n",
              "       19.83333333, 25.76666667, 23.06666667, 21.96666667,  0.        ])"
            ]
          },
          "metadata": {},
          "execution_count": 43
        }
      ]
    },
    {
      "cell_type": "code",
      "source": [
        "# i - 1            i          i + 1\n",
        "(temps[:-2] + temps[1:-1] + temps[2:]) / 3"
      ],
      "metadata": {
        "colab": {
          "base_uri": "https://localhost:8080/"
        },
        "id": "cyEpBBXHu2Ly",
        "outputId": "3bf8cc5b-76f9-425f-cc20-b42ac3ce3e04"
      },
      "execution_count": 44,
      "outputs": [
        {
          "output_type": "execute_result",
          "data": {
            "text/plain": [
              "array([19.8       , 22.96666667, 20.93333333, 21.76666667, 19.83333333,\n",
              "       25.76666667, 23.06666667, 21.96666667])"
            ]
          },
          "metadata": {},
          "execution_count": 44
        }
      ]
    },
    {
      "cell_type": "code",
      "source": [
        "temp"
      ],
      "metadata": {
        "colab": {
          "base_uri": "https://localhost:8080/"
        },
        "id": "IzTgJyzdvOnp",
        "outputId": "6489f41f-f73c-4eef-a58d-c771103a3bee"
      },
      "execution_count": 45,
      "outputs": [
        {
          "output_type": "execute_result",
          "data": {
            "text/plain": [
              "array([ 99.89825854, 101.52313905,  99.90028363,  96.73828667,\n",
              "        96.77980233, 102.91468564,  99.34603239,  99.09533591,\n",
              "        98.27350814,  94.33916721,  97.49497791,  97.05282372,\n",
              "        93.51829518,  93.54034678,  95.46576463,  92.99683836,\n",
              "        89.27662304,  91.29361272,  90.51641586,  87.46048995,\n",
              "        85.19793004,  83.07572989,  84.47998158,  83.09552107,\n",
              "        84.59037269,          nan,          nan,          nan,\n",
              "                nan,          nan,          nan,          nan,\n",
              "                nan,          nan,          nan,          nan,\n",
              "                nan,          nan,          nan,          nan,\n",
              "                nan,          nan,          nan,          nan,\n",
              "                nan,          nan,          nan,          nan,\n",
              "                nan,          nan,          nan,          nan,\n",
              "                nan,          nan,          nan,          nan,\n",
              "                nan,          nan,          nan,          nan,\n",
              "                nan,          nan,          nan,          nan,\n",
              "                nan,          nan,          nan,          nan,\n",
              "                nan,          nan,          nan,          nan,\n",
              "                nan,  80.09599544,  83.77789358,  80.24073197,\n",
              "        84.07629059,  81.95065202,  85.84827794,  87.56967086,\n",
              "        87.19572063,  91.67658285,  86.51474577,  89.72166924,\n",
              "        92.99403256,  93.57569453,  94.05984232,  90.88258643,\n",
              "        95.37759899,  93.94115754,  95.53070256,  97.15175649,\n",
              "        96.26468701,  97.03811793,  99.17773618,  99.83571708,\n",
              "       100.99586742,  96.34971928,  97.49905207,  99.83593609])"
            ]
          },
          "metadata": {},
          "execution_count": 45
        }
      ]
    },
    {
      "cell_type": "code",
      "source": [
        "block_size = 3\n",
        "new_shape = (len(temps) - block_size + 1, block_size)\n",
        "bytes_per_item = temps.dtype.itemsize\n",
        "temps_strided = np.lib.stride_tricks.as_strided(temps,\n",
        "                                                shape=new_shape,\n",
        "                                                strides=(bytes_per_item, bytes_per_item))\n",
        "temps_strided"
      ],
      "metadata": {
        "colab": {
          "base_uri": "https://localhost:8080/"
        },
        "id": "JrwuBeMbvR8L",
        "outputId": "f852f6fa-4ce3-40e1-b898-338b99afb55d"
      },
      "execution_count": 46,
      "outputs": [
        {
          "output_type": "execute_result",
          "data": {
            "text/plain": [
              "array([[15.6, 21.9, 21.9],\n",
              "       [21.9, 21.9, 25.1],\n",
              "       [21.9, 25.1, 15.8],\n",
              "       [25.1, 15.8, 24.4],\n",
              "       [15.8, 24.4, 19.3],\n",
              "       [24.4, 19.3, 33.6],\n",
              "       [19.3, 33.6, 16.3],\n",
              "       [33.6, 16.3, 16. ]])"
            ]
          },
          "metadata": {},
          "execution_count": 46
        }
      ]
    },
    {
      "cell_type": "code",
      "source": [
        "temps_strided.mean(axis=-1)\n"
      ],
      "metadata": {
        "colab": {
          "base_uri": "https://localhost:8080/"
        },
        "id": "xK9UDfepvYIB",
        "outputId": "983b168f-4ecb-443c-da0c-6d43aa5952f7"
      },
      "execution_count": 47,
      "outputs": [
        {
          "output_type": "execute_result",
          "data": {
            "text/plain": [
              "array([19.8       , 22.96666667, 20.93333333, 21.76666667, 19.83333333,\n",
              "       25.76666667, 23.06666667, 21.96666667])"
            ]
          },
          "metadata": {},
          "execution_count": 47
        }
      ]
    },
    {
      "cell_type": "code",
      "source": [
        "temps_strided[0, 2] = 2000\n",
        "temps_strided"
      ],
      "metadata": {
        "colab": {
          "base_uri": "https://localhost:8080/"
        },
        "id": "ul_80epFvaSr",
        "outputId": "d7c06b93-fab2-4930-c51b-b880e9f4d0c9"
      },
      "execution_count": 48,
      "outputs": [
        {
          "output_type": "execute_result",
          "data": {
            "text/plain": [
              "array([[  15.6,   21.9, 2000. ],\n",
              "       [  21.9, 2000. ,   25.1],\n",
              "       [2000. ,   25.1,   15.8],\n",
              "       [  25.1,   15.8,   24.4],\n",
              "       [  15.8,   24.4,   19.3],\n",
              "       [  24.4,   19.3,   33.6],\n",
              "       [  19.3,   33.6,   16.3],\n",
              "       [  33.6,   16.3,   16. ]])"
            ]
          },
          "metadata": {},
          "execution_count": 48
        }
      ]
    },
    {
      "cell_type": "code",
      "source": [
        "pressure = np.linspace(1000, 100, 25)\n",
        "temps = np.random.randn(25, 30, 40) * 3 + np.linspace(25, -100, 25).reshape(-1, 1, 1)"
      ],
      "metadata": {
        "id": "W0EFeFZpvdIj"
      },
      "execution_count": 49,
      "outputs": []
    },
    {
      "cell_type": "code",
      "source": [
        "# Using axis=0 to tell it to operate along the pressure dimension\n",
        "inds = np.argmin(np.abs(temps - -10), axis=0)\n",
        "inds"
      ],
      "metadata": {
        "colab": {
          "base_uri": "https://localhost:8080/"
        },
        "id": "YSjsrRHPvgaS",
        "outputId": "6b10cb0e-832d-4d0f-b96c-75ece573b3eb"
      },
      "execution_count": 50,
      "outputs": [
        {
          "output_type": "execute_result",
          "data": {
            "text/plain": [
              "array([[7, 7, 7, ..., 6, 7, 6],\n",
              "       [7, 7, 6, ..., 7, 7, 8],\n",
              "       [7, 6, 6, ..., 7, 7, 6],\n",
              "       ...,\n",
              "       [7, 7, 6, ..., 7, 7, 6],\n",
              "       [7, 6, 6, ..., 7, 6, 7],\n",
              "       [6, 7, 6, ..., 6, 7, 8]])"
            ]
          },
          "metadata": {},
          "execution_count": 50
        }
      ]
    },
    {
      "cell_type": "code",
      "source": [
        "inds.shape\n"
      ],
      "metadata": {
        "colab": {
          "base_uri": "https://localhost:8080/"
        },
        "id": "72Mea0rxvi_r",
        "outputId": "baad7a65-38c0-47ba-ebbc-49538bc3cbe2"
      },
      "execution_count": 51,
      "outputs": [
        {
          "output_type": "execute_result",
          "data": {
            "text/plain": [
              "(30, 40)"
            ]
          },
          "metadata": {},
          "execution_count": 51
        }
      ]
    },
    {
      "cell_type": "code",
      "source": [
        "pressure[inds]\n"
      ],
      "metadata": {
        "colab": {
          "base_uri": "https://localhost:8080/"
        },
        "id": "bM-EyJ01vlVr",
        "outputId": "571be833-2753-496b-daa9-9b405500423e"
      },
      "execution_count": 52,
      "outputs": [
        {
          "output_type": "execute_result",
          "data": {
            "text/plain": [
              "array([[737.5, 737.5, 737.5, ..., 775. , 737.5, 775. ],\n",
              "       [737.5, 737.5, 775. , ..., 737.5, 737.5, 700. ],\n",
              "       [737.5, 775. , 775. , ..., 737.5, 737.5, 775. ],\n",
              "       ...,\n",
              "       [737.5, 737.5, 775. , ..., 737.5, 737.5, 775. ],\n",
              "       [737.5, 775. , 775. , ..., 737.5, 775. , 737.5],\n",
              "       [775. , 737.5, 775. , ..., 775. , 737.5, 700. ]])"
            ]
          },
          "metadata": {},
          "execution_count": 52
        }
      ]
    },
    {
      "cell_type": "code",
      "source": [
        "temps[inds, :, :].shape\n"
      ],
      "metadata": {
        "colab": {
          "base_uri": "https://localhost:8080/"
        },
        "id": "nrPBJ4OgvnUV",
        "outputId": "2da43ee2-c371-4e86-d8f7-a2360608d7da"
      },
      "execution_count": 53,
      "outputs": [
        {
          "output_type": "execute_result",
          "data": {
            "text/plain": [
              "(30, 40, 30, 40)"
            ]
          },
          "metadata": {},
          "execution_count": 53
        }
      ]
    },
    {
      "cell_type": "code",
      "source": [
        "output = np.empty(inds.shape, dtype=temps.dtype)\n",
        "for (i, j), val in np.ndenumerate(inds):\n",
        "    output[i, j] = temps[val, i, j]\n",
        "output"
      ],
      "metadata": {
        "colab": {
          "base_uri": "https://localhost:8080/"
        },
        "id": "YmZQ_sMavpRh",
        "outputId": "59a0f5b0-9938-4730-fbbd-32066048eaee"
      },
      "execution_count": 54,
      "outputs": [
        {
          "output_type": "execute_result",
          "data": {
            "text/plain": [
              "array([[-10.14693646, -10.73922008,  -8.49191364, ...,  -7.82265214,\n",
              "         -8.41637367,  -6.88225779],\n",
              "       [-10.55002029, -11.13020168, -11.85619705, ..., -12.50716902,\n",
              "         -5.99655968,  -8.07955017],\n",
              "       [-10.65435837,  -9.65969127,  -7.61868718, ..., -11.14021744,\n",
              "        -11.84803029, -10.82548735],\n",
              "       ...,\n",
              "       [-12.97976772,  -9.60382426,  -6.9769041 , ...,  -8.03130626,\n",
              "        -11.48106798,  -6.66645564],\n",
              "       [-12.85427148,  -7.2384984 , -10.30220474, ...,  -9.69642952,\n",
              "         -9.58706164, -10.30930626],\n",
              "       [ -9.79276561,  -9.10536582, -10.87467489, ...,  -9.15323379,\n",
              "        -10.1780127 , -10.73320067]])"
            ]
          },
          "metadata": {},
          "execution_count": 54
        }
      ]
    },
    {
      "cell_type": "code",
      "source": [
        "pressure[np.arange(pressure.size)]\n",
        "np.all(pressure[np.arange(pressure.size)] == pressure)\n",
        "y_inds = np.arange(temps.shape[1])[:, np.newaxis]\n",
        "x_inds = np.arange(temps.shape[2])\n",
        "temps[inds, y_inds, x_inds]\n",
        "np.all(output == temps[inds, y_inds, x_inds])\n"
      ],
      "metadata": {
        "colab": {
          "base_uri": "https://localhost:8080/"
        },
        "id": "Ct41nOfowOO-",
        "outputId": "1f0ae192-b759-4d54-f360-c8b4d212e387"
      },
      "execution_count": 56,
      "outputs": [
        {
          "output_type": "execute_result",
          "data": {
            "text/plain": [
              "True"
            ]
          },
          "metadata": {},
          "execution_count": 56
        }
      ]
    },
    {
      "cell_type": "markdown",
      "source": [
        "https://numpy.org/doc/stable/user/basics.broadcasting.html"
      ],
      "metadata": {
        "id": "051Tz91-wej0"
      }
    }
  ]
}