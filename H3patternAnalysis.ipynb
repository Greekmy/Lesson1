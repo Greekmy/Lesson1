{
  "cells": [
    {
      "cell_type": "markdown",
      "metadata": {
        "id": "view-in-github",
        "colab_type": "text"
      },
      "source": [
        "<a href=\"https://colab.research.google.com/github/Greekmy/python/blob/main/H3patternAnalysis.ipynb\" target=\"_parent\"><img src=\"https://colab.research.google.com/assets/colab-badge.svg\" alt=\"Open In Colab\"/></a>"
      ]
    },
    {
      "cell_type": "markdown",
      "metadata": {
        "id": "NFkh_xstJOy-"
      },
      "source": [
        "\n",
        "\n",
        "```\n",
        "# This is formatted as text\n",
        "```\n",
        "\n",
        "#Uber H3 for product sale/weather forecast with Python\n",
        "\n",
        "#Goal: Use H3 geo-spatial index system to predcit seasonal change in weather patterns "
      ]
    },
    {
      "cell_type": "markdown",
      "source": [
        "```\n",
        "# This is formatted as text\n",
        "```\n",
        "\n",
        "#A uniform grid framework to view geospatial data and derive insights from it. \n",
        "\n",
        "# Advantage: \n",
        "1. The Hexagonal shape that covers the earth uniformly\n",
        "2. The Hexagons have constant distance between a hexagon’s center-point and its neighbors’\n",
        "3. Hexagon's shape and size can be altered to cover the entire shape of the region\n",
        "4. Grid based analysis of the data that represents the physical quantities\n",
        "\n",
        "\n",
        "\n",
        "\n"
      ],
      "metadata": {
        "id": "eoPOxBPLIZAu"
      }
    },
    {
      "cell_type": "code",
      "execution_count": 10,
      "metadata": {
        "colab": {
          "base_uri": "https://localhost:8080/"
        },
        "id": "EzeZvnEFJOzN",
        "outputId": "5897cf2a-6176-425d-93af-165b30c4e24b"
      },
      "outputs": [
        {
          "output_type": "stream",
          "name": "stdout",
          "text": [
            "Looking in indexes: https://pypi.org/simple, https://us-python.pkg.dev/colab-wheels/public/simple/\n",
            "Collecting h3pandas\n",
            "  Downloading h3pandas-0.2.3.tar.gz (75 kB)\n",
            "\u001b[K     |████████████████████████████████| 75 kB 4.0 MB/s \n",
            "\u001b[?25hCollecting geopandas\n",
            "  Downloading geopandas-0.10.2-py2.py3-none-any.whl (1.0 MB)\n",
            "\u001b[K     |████████████████████████████████| 1.0 MB 40.5 MB/s \n",
            "\u001b[?25hRequirement already satisfied: numpy in /usr/local/lib/python3.7/dist-packages (from h3pandas) (1.21.6)\n",
            "Requirement already satisfied: pandas in /usr/local/lib/python3.7/dist-packages (from h3pandas) (1.3.5)\n",
            "Requirement already satisfied: shapely in /usr/local/lib/python3.7/dist-packages (from h3pandas) (1.8.4)\n",
            "Requirement already satisfied: h3 in /usr/local/lib/python3.7/dist-packages (from h3pandas) (3.7.4)\n",
            "Requirement already satisfied: typing-extensions in /usr/local/lib/python3.7/dist-packages (from h3pandas) (4.1.1)\n",
            "Collecting pyproj>=2.2.0\n",
            "  Downloading pyproj-3.2.1-cp37-cp37m-manylinux2010_x86_64.whl (6.3 MB)\n",
            "\u001b[K     |████████████████████████████████| 6.3 MB 50.7 MB/s \n",
            "\u001b[?25hCollecting fiona>=1.8\n",
            "  Downloading Fiona-1.8.21-cp37-cp37m-manylinux2014_x86_64.whl (16.7 MB)\n",
            "\u001b[K     |████████████████████████████████| 16.7 MB 65.7 MB/s \n",
            "\u001b[?25hRequirement already satisfied: setuptools in /usr/local/lib/python3.7/dist-packages (from fiona>=1.8->geopandas->h3pandas) (57.4.0)\n",
            "Collecting munch\n",
            "  Downloading munch-2.5.0-py2.py3-none-any.whl (10 kB)\n",
            "Collecting click-plugins>=1.0\n",
            "  Downloading click_plugins-1.1.1-py2.py3-none-any.whl (7.5 kB)\n",
            "Requirement already satisfied: click>=4.0 in /usr/local/lib/python3.7/dist-packages (from fiona>=1.8->geopandas->h3pandas) (7.1.2)\n",
            "Requirement already satisfied: six>=1.7 in /usr/local/lib/python3.7/dist-packages (from fiona>=1.8->geopandas->h3pandas) (1.15.0)\n",
            "Requirement already satisfied: attrs>=17 in /usr/local/lib/python3.7/dist-packages (from fiona>=1.8->geopandas->h3pandas) (22.1.0)\n",
            "Requirement already satisfied: certifi in /usr/local/lib/python3.7/dist-packages (from fiona>=1.8->geopandas->h3pandas) (2022.6.15)\n",
            "Collecting cligj>=0.5\n",
            "  Downloading cligj-0.7.2-py3-none-any.whl (7.1 kB)\n",
            "Requirement already satisfied: pytz>=2017.3 in /usr/local/lib/python3.7/dist-packages (from pandas->h3pandas) (2022.2.1)\n",
            "Requirement already satisfied: python-dateutil>=2.7.3 in /usr/local/lib/python3.7/dist-packages (from pandas->h3pandas) (2.8.2)\n",
            "Building wheels for collected packages: h3pandas\n",
            "  Building wheel for h3pandas (setup.py) ... \u001b[?25l\u001b[?25hdone\n",
            "  Created wheel for h3pandas: filename=h3pandas-0.2.3-py3-none-any.whl size=17136 sha256=247a27cca045815ce94525efd6534a419fedd442483f9a7aceec491c6499ca9d\n",
            "  Stored in directory: /root/.cache/pip/wheels/59/d8/b5/d5406a801c743e39323e3305611d8caf558077b6caf7e8858f\n",
            "Successfully built h3pandas\n",
            "Installing collected packages: munch, cligj, click-plugins, pyproj, fiona, geopandas, h3pandas\n",
            "Successfully installed click-plugins-1.1.1 cligj-0.7.2 fiona-1.8.21 geopandas-0.10.2 h3pandas-0.2.3 munch-2.5.0 pyproj-3.2.1\n"
          ]
        }
      ],
      "source": [
        "!pip install h3pandas\n",
        "import pandas as pd\n",
        "import matplotlib.pyplot as plt\n",
        "import h3pandas"
      ]
    },
    {
      "cell_type": "code",
      "source": [
        "!pip install h3\n",
        "import h3\n",
        "h3.geo_to_h3(\n",
        "    lat=25.32,\n",
        "    lng=55.46,\n",
        "    resolution=7\n",
        ")"
      ],
      "metadata": {
        "colab": {
          "base_uri": "https://localhost:8080/",
          "height": 93
        },
        "id": "W3jPFedcOpzH",
        "outputId": "44d30cd8-64bc-4430-866d-b8ea97ca7c4f"
      },
      "execution_count": 4,
      "outputs": [
        {
          "output_type": "stream",
          "name": "stdout",
          "text": [
            "Looking in indexes: https://pypi.org/simple, https://us-python.pkg.dev/colab-wheels/public/simple/\n",
            "Requirement already satisfied: h3 in /usr/local/lib/python3.7/dist-packages (3.7.4)\n"
          ]
        },
        {
          "output_type": "execute_result",
          "data": {
            "text/plain": [
              "'8743accf5ffffff'"
            ],
            "application/vnd.google.colaboratory.intrinsic+json": {
              "type": "string"
            }
          },
          "metadata": {},
          "execution_count": 4
        }
      ]
    },
    {
      "cell_type": "code",
      "source": [
        "h3.geo_to_h3(\n",
        "    lat=25.32,\n",
        "    lng=55.46,\n",
        "    resolution=7\n",
        ")"
      ],
      "metadata": {
        "colab": {
          "base_uri": "https://localhost:8080/",
          "height": 36
        },
        "id": "i3GMhI6tPLe2",
        "outputId": "3978c157-5b20-45d9-93f6-f08789fb80f4"
      },
      "execution_count": 5,
      "outputs": [
        {
          "output_type": "execute_result",
          "data": {
            "text/plain": [
              "'8743accf5ffffff'"
            ],
            "application/vnd.google.colaboratory.intrinsic+json": {
              "type": "string"
            }
          },
          "metadata": {},
          "execution_count": 5
        }
      ]
    },
    {
      "cell_type": "code",
      "source": [
        "h3_id = \"8843a13687fffff\"\n",
        "h3.k_ring(h3_id,1)\n",
        "h3.k_ring(h3_id,2)\n",
        "h3.k_ring(h3_id,10)"
      ],
      "metadata": {
        "colab": {
          "base_uri": "https://localhost:8080/"
        },
        "id": "aWa_T1nGU9oy",
        "outputId": "e383b462-fe91-4dab-e33e-694a1a2d867d"
      },
      "execution_count": 6,
      "outputs": [
        {
          "output_type": "execute_result",
          "data": {
            "text/plain": [
              "{'8843a12649fffff',\n",
              " '8843a1264bfffff',\n",
              " '8843a13401fffff',\n",
              " '8843a13403fffff',\n",
              " '8843a13405fffff',\n",
              " '8843a13407fffff',\n",
              " '8843a13409fffff',\n",
              " '8843a1340bfffff',\n",
              " '8843a1340dfffff',\n",
              " '8843a13411fffff',\n",
              " '8843a13413fffff',\n",
              " '8843a13415fffff',\n",
              " '8843a13417fffff',\n",
              " '8843a13419fffff',\n",
              " '8843a1341bfffff',\n",
              " '8843a1341dfffff',\n",
              " '8843a13421fffff',\n",
              " '8843a13423fffff',\n",
              " '8843a13425fffff',\n",
              " '8843a13427fffff',\n",
              " '8843a13429fffff',\n",
              " '8843a1342bfffff',\n",
              " '8843a1342dfffff',\n",
              " '8843a13431fffff',\n",
              " '8843a13433fffff',\n",
              " '8843a13435fffff',\n",
              " '8843a13437fffff',\n",
              " '8843a13439fffff',\n",
              " '8843a1343bfffff',\n",
              " '8843a1343dfffff',\n",
              " '8843a13441fffff',\n",
              " '8843a13443fffff',\n",
              " '8843a13445fffff',\n",
              " '8843a13447fffff',\n",
              " '8843a13449fffff',\n",
              " '8843a1344bfffff',\n",
              " '8843a1344dfffff',\n",
              " '8843a13451fffff',\n",
              " '8843a13453fffff',\n",
              " '8843a13455fffff',\n",
              " '8843a13457fffff',\n",
              " '8843a13459fffff',\n",
              " '8843a1345bfffff',\n",
              " '8843a1345dfffff',\n",
              " '8843a13461fffff',\n",
              " '8843a13463fffff',\n",
              " '8843a13467fffff',\n",
              " '8843a13469fffff',\n",
              " '8843a1346bfffff',\n",
              " '8843a13481fffff',\n",
              " '8843a13483fffff',\n",
              " '8843a13485fffff',\n",
              " '8843a13487fffff',\n",
              " '8843a13489fffff',\n",
              " '8843a1348bfffff',\n",
              " '8843a1348dfffff',\n",
              " '8843a13491fffff',\n",
              " '8843a13493fffff',\n",
              " '8843a13495fffff',\n",
              " '8843a13497fffff',\n",
              " '8843a13499fffff',\n",
              " '8843a1349bfffff',\n",
              " '8843a1349dfffff',\n",
              " '8843a134a1fffff',\n",
              " '8843a134a3fffff',\n",
              " '8843a134a5fffff',\n",
              " '8843a134a7fffff',\n",
              " '8843a134a9fffff',\n",
              " '8843a134abfffff',\n",
              " '8843a134adfffff',\n",
              " '8843a134b1fffff',\n",
              " '8843a134b3fffff',\n",
              " '8843a134b5fffff',\n",
              " '8843a134b7fffff',\n",
              " '8843a134b9fffff',\n",
              " '8843a134bbfffff',\n",
              " '8843a134bdfffff',\n",
              " '8843a134c1fffff',\n",
              " '8843a134c3fffff',\n",
              " '8843a134c5fffff',\n",
              " '8843a134c7fffff',\n",
              " '8843a134c9fffff',\n",
              " '8843a134cbfffff',\n",
              " '8843a134cdfffff',\n",
              " '8843a134d1fffff',\n",
              " '8843a134d3fffff',\n",
              " '8843a134d5fffff',\n",
              " '8843a134d7fffff',\n",
              " '8843a134d9fffff',\n",
              " '8843a134dbfffff',\n",
              " '8843a134ddfffff',\n",
              " '8843a134e1fffff',\n",
              " '8843a134e3fffff',\n",
              " '8843a134e5fffff',\n",
              " '8843a134e7fffff',\n",
              " '8843a134e9fffff',\n",
              " '8843a134ebfffff',\n",
              " '8843a134edfffff',\n",
              " '8843a135c9fffff',\n",
              " '8843a135cbfffff',\n",
              " '8843a135d1fffff',\n",
              " '8843a135d3fffff',\n",
              " '8843a135d9fffff',\n",
              " '8843a135dbfffff',\n",
              " '8843a135ddfffff',\n",
              " '8843a13601fffff',\n",
              " '8843a13603fffff',\n",
              " '8843a13605fffff',\n",
              " '8843a13607fffff',\n",
              " '8843a13609fffff',\n",
              " '8843a1360bfffff',\n",
              " '8843a1360dfffff',\n",
              " '8843a13611fffff',\n",
              " '8843a13613fffff',\n",
              " '8843a13615fffff',\n",
              " '8843a13617fffff',\n",
              " '8843a13619fffff',\n",
              " '8843a1361bfffff',\n",
              " '8843a1361dfffff',\n",
              " '8843a13621fffff',\n",
              " '8843a13623fffff',\n",
              " '8843a13625fffff',\n",
              " '8843a13627fffff',\n",
              " '8843a13629fffff',\n",
              " '8843a1362bfffff',\n",
              " '8843a1362dfffff',\n",
              " '8843a13631fffff',\n",
              " '8843a13633fffff',\n",
              " '8843a13635fffff',\n",
              " '8843a13637fffff',\n",
              " '8843a13639fffff',\n",
              " '8843a1363bfffff',\n",
              " '8843a1363dfffff',\n",
              " '8843a13643fffff',\n",
              " '8843a13647fffff',\n",
              " '8843a13651fffff',\n",
              " '8843a13653fffff',\n",
              " '8843a13655fffff',\n",
              " '8843a13657fffff',\n",
              " '8843a13659fffff',\n",
              " '8843a1365bfffff',\n",
              " '8843a1365dfffff',\n",
              " '8843a13661fffff',\n",
              " '8843a13663fffff',\n",
              " '8843a13667fffff',\n",
              " '8843a1366bfffff',\n",
              " '8843a13681fffff',\n",
              " '8843a13683fffff',\n",
              " '8843a13685fffff',\n",
              " '8843a13687fffff',\n",
              " '8843a13689fffff',\n",
              " '8843a1368bfffff',\n",
              " '8843a1368dfffff',\n",
              " '8843a13691fffff',\n",
              " '8843a13693fffff',\n",
              " '8843a13695fffff',\n",
              " '8843a13697fffff',\n",
              " '8843a13699fffff',\n",
              " '8843a1369bfffff',\n",
              " '8843a1369dfffff',\n",
              " '8843a136a1fffff',\n",
              " '8843a136a3fffff',\n",
              " '8843a136a5fffff',\n",
              " '8843a136a7fffff',\n",
              " '8843a136a9fffff',\n",
              " '8843a136abfffff',\n",
              " '8843a136adfffff',\n",
              " '8843a136b1fffff',\n",
              " '8843a136b3fffff',\n",
              " '8843a136b5fffff',\n",
              " '8843a136b7fffff',\n",
              " '8843a136b9fffff',\n",
              " '8843a136bbfffff',\n",
              " '8843a136bdfffff',\n",
              " '8843a136c1fffff',\n",
              " '8843a136c3fffff',\n",
              " '8843a136c5fffff',\n",
              " '8843a136c7fffff',\n",
              " '8843a136c9fffff',\n",
              " '8843a136cbfffff',\n",
              " '8843a136cdfffff',\n",
              " '8843a136d1fffff',\n",
              " '8843a136d3fffff',\n",
              " '8843a136d5fffff',\n",
              " '8843a136d7fffff',\n",
              " '8843a136d9fffff',\n",
              " '8843a136dbfffff',\n",
              " '8843a136ddfffff',\n",
              " '8843a136e1fffff',\n",
              " '8843a136e3fffff',\n",
              " '8843a136e5fffff',\n",
              " '8843a136e7fffff',\n",
              " '8843a136e9fffff',\n",
              " '8843a136ebfffff',\n",
              " '8843a136edfffff',\n",
              " '8843a13713fffff',\n",
              " '8843a1371bfffff',\n",
              " '8843acc86dfffff',\n",
              " '8843acc941fffff',\n",
              " '8843acc945fffff',\n",
              " '8843acc949fffff',\n",
              " '8843acc94bfffff',\n",
              " '8843acc94dfffff',\n",
              " '8843acc969fffff',\n",
              " '8843acc96dfffff',\n",
              " '8843acca65fffff',\n",
              " '8843acca6dfffff',\n",
              " '8843accb01fffff',\n",
              " '8843accb03fffff',\n",
              " '8843accb05fffff',\n",
              " '8843accb07fffff',\n",
              " '8843accb09fffff',\n",
              " '8843accb0bfffff',\n",
              " '8843accb0dfffff',\n",
              " '8843accb11fffff',\n",
              " '8843accb15fffff',\n",
              " '8843accb17fffff',\n",
              " '8843accb19fffff',\n",
              " '8843accb1dfffff',\n",
              " '8843accb21fffff',\n",
              " '8843accb23fffff',\n",
              " '8843accb25fffff',\n",
              " '8843accb27fffff',\n",
              " '8843accb29fffff',\n",
              " '8843accb2bfffff',\n",
              " '8843accb2dfffff',\n",
              " '8843accb31fffff',\n",
              " '8843accb33fffff',\n",
              " '8843accb35fffff',\n",
              " '8843accb37fffff',\n",
              " '8843accb39fffff',\n",
              " '8843accb3bfffff',\n",
              " '8843accb3dfffff',\n",
              " '8843accb41fffff',\n",
              " '8843accb43fffff',\n",
              " '8843accb45fffff',\n",
              " '8843accb47fffff',\n",
              " '8843accb49fffff',\n",
              " '8843accb4bfffff',\n",
              " '8843accb4dfffff',\n",
              " '8843accb51fffff',\n",
              " '8843accb53fffff',\n",
              " '8843accb55fffff',\n",
              " '8843accb57fffff',\n",
              " '8843accb59fffff',\n",
              " '8843accb5bfffff',\n",
              " '8843accb5dfffff',\n",
              " '8843accb61fffff',\n",
              " '8843accb63fffff',\n",
              " '8843accb65fffff',\n",
              " '8843accb67fffff',\n",
              " '8843accb69fffff',\n",
              " '8843accb6bfffff',\n",
              " '8843accb6dfffff',\n",
              " '8843acd901fffff',\n",
              " '8843acd903fffff',\n",
              " '8843acd905fffff',\n",
              " '8843acd907fffff',\n",
              " '8843acd909fffff',\n",
              " '8843acd90bfffff',\n",
              " '8843acd90dfffff',\n",
              " '8843acd911fffff',\n",
              " '8843acd913fffff',\n",
              " '8843acd915fffff',\n",
              " '8843acd917fffff',\n",
              " '8843acd919fffff',\n",
              " '8843acd91bfffff',\n",
              " '8843acd91dfffff',\n",
              " '8843acd921fffff',\n",
              " '8843acd923fffff',\n",
              " '8843acd925fffff',\n",
              " '8843acd927fffff',\n",
              " '8843acd929fffff',\n",
              " '8843acd92bfffff',\n",
              " '8843acd92dfffff',\n",
              " '8843acd931fffff',\n",
              " '8843acd933fffff',\n",
              " '8843acd935fffff',\n",
              " '8843acd937fffff',\n",
              " '8843acd939fffff',\n",
              " '8843acd93bfffff',\n",
              " '8843acd93dfffff',\n",
              " '8843acd943fffff',\n",
              " '8843acd947fffff',\n",
              " '8843acd955fffff',\n",
              " '8843acd957fffff',\n",
              " '8843acd961fffff',\n",
              " '8843acd963fffff',\n",
              " '8843acd965fffff',\n",
              " '8843acd967fffff',\n",
              " '8843acd96bfffff',\n",
              " '8843acd981fffff',\n",
              " '8843acd983fffff',\n",
              " '8843acd985fffff',\n",
              " '8843acd987fffff',\n",
              " '8843acd989fffff',\n",
              " '8843acd98bfffff',\n",
              " '8843acd98dfffff',\n",
              " '8843acd991fffff',\n",
              " '8843acd995fffff',\n",
              " '8843acd997fffff',\n",
              " '8843acd999fffff',\n",
              " '8843acd99dfffff',\n",
              " '8843acd9a1fffff',\n",
              " '8843acd9a3fffff',\n",
              " '8843acd9a5fffff',\n",
              " '8843acd9a7fffff',\n",
              " '8843acd9a9fffff',\n",
              " '8843acd9abfffff',\n",
              " '8843acd9adfffff',\n",
              " '8843acd9b1fffff',\n",
              " '8843acd9b3fffff',\n",
              " '8843acd9b5fffff',\n",
              " '8843acd9b7fffff',\n",
              " '8843acd9b9fffff',\n",
              " '8843acd9bbfffff',\n",
              " '8843acd9bdfffff',\n",
              " '8843acd9c1fffff',\n",
              " '8843acd9c3fffff',\n",
              " '8843acd9c5fffff',\n",
              " '8843acd9c7fffff',\n",
              " '8843acd9cdfffff',\n",
              " '8843acd9d5fffff',\n",
              " '8843acd9d7fffff',\n",
              " '8843acd9e1fffff',\n",
              " '8843acd9e3fffff',\n",
              " '8843acd9e5fffff',\n",
              " '8843acd9e7fffff',\n",
              " '8843acd9e9fffff',\n",
              " '8843acd9ebfffff',\n",
              " '8843acd9edfffff'}"
            ]
          },
          "metadata": {},
          "execution_count": 6
        }
      ]
    },
    {
      "cell_type": "code",
      "source": [
        "import h3\n",
        "from shapely.geometry import Polygon, Point\n",
        "import shapely.wkt\n"
      ],
      "metadata": {
        "id": "XHkHDJ3_Vtu0"
      },
      "execution_count": 7,
      "outputs": []
    },
    {
      "cell_type": "markdown",
      "metadata": {
        "id": "H8czSjaoJOzQ"
      },
      "source": [
        "## Fetch data"
      ]
    },
    {
      "cell_type": "markdown",
      "metadata": {
        "id": "IAWzY74sJOzT"
      },
      "source": [
        "We will use the rainfall (Colorado) station dataset for this demo"
      ]
    },
    {
      "cell_type": "code",
      "execution_count": 14,
      "metadata": {
        "id": "QRVNhQyoJOzV"
      },
      "outputs": [],
      "source": [
        "# Download and subset data\n",
        "!cd \n",
        "df = pd.read_csv('pr_climatology_annual-monthly_cru_1991-2020_USA.csv')\n",
        "df = df.rename({'long': 'lng', 'lat': 'lat'}, axis=1)[['lng', 'lat', 'Annual']]"
      ]
    },
    {
      "cell_type": "markdown",
      "metadata": {
        "id": "v1edU_O9JOzZ"
      },
      "source": [
        "Only use the central part of the data"
      ]
    },
    {
      "cell_type": "code",
      "execution_count": null,
      "metadata": {
        "id": "7_NbxVd9JOzb"
      },
      "outputs": [],
      "source": [
        "qt = 0.1\n",
        "df = df.loc[(df['lng'] > df['lng'].quantile(qt)) & (df['lng'] < df['lng'].quantile(1-qt)) \n",
        "            & (df['lat'] > df['lat'].quantile(qt)) & (df['lat'] < df['lat'].quantile(1-qt))]"
      ]
    },
    {
      "cell_type": "markdown",
      "metadata": {
        "id": "A12ecdFTJOze"
      },
      "source": [
        "## H3-Pandas"
      ]
    },
    {
      "cell_type": "markdown",
      "metadata": {
        "id": "PF-tXpFXJOzh"
      },
      "source": [
        "### Basic H3 API"
      ]
    },
    {
      "cell_type": "markdown",
      "metadata": {
        "id": "1se9tES4JOzi"
      },
      "source": [
        "#### `geo_to_h3`"
      ]
    },
    {
      "cell_type": "markdown",
      "metadata": {
        "id": "y-JDKP9qJOzl"
      },
      "source": [
        "We can use `geo_to_h3` to add an index with H3 addresses resolution 10"
      ]
    },
    {
      "cell_type": "markdown",
      "metadata": {
        "id": "XGEGiQTCJOzl"
      },
      "source": [
        "`geo_to_h3` assumes coordinates are in `epsg=4326`"
      ]
    },
    {
      "cell_type": "markdown",
      "metadata": {
        "id": "ulObAxBcJOzm"
      },
      "source": [
        "**NOTE**: `geo_to_h3` also works with `POINT` GeoDataFrames"
      ]
    },
    {
      "cell_type": "code",
      "execution_count": null,
      "metadata": {
        "colab": {
          "base_uri": "https://localhost:8080/",
          "height": 238
        },
        "id": "kprGtY-gJOzn",
        "outputId": "966c3772-cb41-4845-b994-3e90fae823b4"
      },
      "outputs": [
        {
          "output_type": "execute_result",
          "data": {
            "text/plain": [
              "                       lng        lat  passenger_count\n",
              "h3_10                                                 \n",
              "8a2a100d2c87fff -73.993896  40.750111                1\n",
              "8a2a100d2a07fff -73.976425  40.739811                1\n",
              "8a2a100d630ffff -73.968704  40.754246                5\n",
              "8a2a100e2517fff -73.863060  40.769581                5\n",
              "8a2a10089b0ffff -73.945541  40.779423                1"
            ],
            "text/html": [
              "\n",
              "  <div id=\"df-729e4fa0-9122-4558-af13-e41d6f67eed8\">\n",
              "    <div class=\"colab-df-container\">\n",
              "      <div>\n",
              "<style scoped>\n",
              "    .dataframe tbody tr th:only-of-type {\n",
              "        vertical-align: middle;\n",
              "    }\n",
              "\n",
              "    .dataframe tbody tr th {\n",
              "        vertical-align: top;\n",
              "    }\n",
              "\n",
              "    .dataframe thead th {\n",
              "        text-align: right;\n",
              "    }\n",
              "</style>\n",
              "<table border=\"1\" class=\"dataframe\">\n",
              "  <thead>\n",
              "    <tr style=\"text-align: right;\">\n",
              "      <th></th>\n",
              "      <th>lng</th>\n",
              "      <th>lat</th>\n",
              "      <th>passenger_count</th>\n",
              "    </tr>\n",
              "    <tr>\n",
              "      <th>h3_10</th>\n",
              "      <th></th>\n",
              "      <th></th>\n",
              "      <th></th>\n",
              "    </tr>\n",
              "  </thead>\n",
              "  <tbody>\n",
              "    <tr>\n",
              "      <th>8a2a100d2c87fff</th>\n",
              "      <td>-73.993896</td>\n",
              "      <td>40.750111</td>\n",
              "      <td>1</td>\n",
              "    </tr>\n",
              "    <tr>\n",
              "      <th>8a2a100d2a07fff</th>\n",
              "      <td>-73.976425</td>\n",
              "      <td>40.739811</td>\n",
              "      <td>1</td>\n",
              "    </tr>\n",
              "    <tr>\n",
              "      <th>8a2a100d630ffff</th>\n",
              "      <td>-73.968704</td>\n",
              "      <td>40.754246</td>\n",
              "      <td>5</td>\n",
              "    </tr>\n",
              "    <tr>\n",
              "      <th>8a2a100e2517fff</th>\n",
              "      <td>-73.863060</td>\n",
              "      <td>40.769581</td>\n",
              "      <td>5</td>\n",
              "    </tr>\n",
              "    <tr>\n",
              "      <th>8a2a10089b0ffff</th>\n",
              "      <td>-73.945541</td>\n",
              "      <td>40.779423</td>\n",
              "      <td>1</td>\n",
              "    </tr>\n",
              "  </tbody>\n",
              "</table>\n",
              "</div>\n",
              "      <button class=\"colab-df-convert\" onclick=\"convertToInteractive('df-729e4fa0-9122-4558-af13-e41d6f67eed8')\"\n",
              "              title=\"Convert this dataframe to an interactive table.\"\n",
              "              style=\"display:none;\">\n",
              "        \n",
              "  <svg xmlns=\"http://www.w3.org/2000/svg\" height=\"24px\"viewBox=\"0 0 24 24\"\n",
              "       width=\"24px\">\n",
              "    <path d=\"M0 0h24v24H0V0z\" fill=\"none\"/>\n",
              "    <path d=\"M18.56 5.44l.94 2.06.94-2.06 2.06-.94-2.06-.94-.94-2.06-.94 2.06-2.06.94zm-11 1L8.5 8.5l.94-2.06 2.06-.94-2.06-.94L8.5 2.5l-.94 2.06-2.06.94zm10 10l.94 2.06.94-2.06 2.06-.94-2.06-.94-.94-2.06-.94 2.06-2.06.94z\"/><path d=\"M17.41 7.96l-1.37-1.37c-.4-.4-.92-.59-1.43-.59-.52 0-1.04.2-1.43.59L10.3 9.45l-7.72 7.72c-.78.78-.78 2.05 0 2.83L4 21.41c.39.39.9.59 1.41.59.51 0 1.02-.2 1.41-.59l7.78-7.78 2.81-2.81c.8-.78.8-2.07 0-2.86zM5.41 20L4 18.59l7.72-7.72 1.47 1.35L5.41 20z\"/>\n",
              "  </svg>\n",
              "      </button>\n",
              "      \n",
              "  <style>\n",
              "    .colab-df-container {\n",
              "      display:flex;\n",
              "      flex-wrap:wrap;\n",
              "      gap: 12px;\n",
              "    }\n",
              "\n",
              "    .colab-df-convert {\n",
              "      background-color: #E8F0FE;\n",
              "      border: none;\n",
              "      border-radius: 50%;\n",
              "      cursor: pointer;\n",
              "      display: none;\n",
              "      fill: #1967D2;\n",
              "      height: 32px;\n",
              "      padding: 0 0 0 0;\n",
              "      width: 32px;\n",
              "    }\n",
              "\n",
              "    .colab-df-convert:hover {\n",
              "      background-color: #E2EBFA;\n",
              "      box-shadow: 0px 1px 2px rgba(60, 64, 67, 0.3), 0px 1px 3px 1px rgba(60, 64, 67, 0.15);\n",
              "      fill: #174EA6;\n",
              "    }\n",
              "\n",
              "    [theme=dark] .colab-df-convert {\n",
              "      background-color: #3B4455;\n",
              "      fill: #D2E3FC;\n",
              "    }\n",
              "\n",
              "    [theme=dark] .colab-df-convert:hover {\n",
              "      background-color: #434B5C;\n",
              "      box-shadow: 0px 1px 3px 1px rgba(0, 0, 0, 0.15);\n",
              "      filter: drop-shadow(0px 1px 2px rgba(0, 0, 0, 0.3));\n",
              "      fill: #FFFFFF;\n",
              "    }\n",
              "  </style>\n",
              "\n",
              "      <script>\n",
              "        const buttonEl =\n",
              "          document.querySelector('#df-729e4fa0-9122-4558-af13-e41d6f67eed8 button.colab-df-convert');\n",
              "        buttonEl.style.display =\n",
              "          google.colab.kernel.accessAllowed ? 'block' : 'none';\n",
              "\n",
              "        async function convertToInteractive(key) {\n",
              "          const element = document.querySelector('#df-729e4fa0-9122-4558-af13-e41d6f67eed8');\n",
              "          const dataTable =\n",
              "            await google.colab.kernel.invokeFunction('convertToInteractive',\n",
              "                                                     [key], {});\n",
              "          if (!dataTable) return;\n",
              "\n",
              "          const docLinkHtml = 'Like what you see? Visit the ' +\n",
              "            '<a target=\"_blank\" href=https://colab.research.google.com/notebooks/data_table.ipynb>data table notebook</a>'\n",
              "            + ' to learn more about interactive tables.';\n",
              "          element.innerHTML = '';\n",
              "          dataTable['output_type'] = 'display_data';\n",
              "          await google.colab.output.renderOutput(dataTable, element);\n",
              "          const docLink = document.createElement('div');\n",
              "          docLink.innerHTML = docLinkHtml;\n",
              "          element.appendChild(docLink);\n",
              "        }\n",
              "      </script>\n",
              "    </div>\n",
              "  </div>\n",
              "  "
            ]
          },
          "metadata": {},
          "execution_count": 33
        }
      ],
      "source": [
        "dfh3 = df.h3.geo_to_h3(10)\n",
        "dfh3.head()"
      ]
    },
    {
      "cell_type": "code",
      "execution_count": null,
      "metadata": {
        "colab": {
          "base_uri": "https://localhost:8080/",
          "height": 624
        },
        "id": "_nTcvzSOJOzp",
        "outputId": "d87e9683-3570-44ef-8f64-b22a9c1a97c4"
      },
      "outputs": [
        {
          "output_type": "execute_result",
          "data": {
            "text/plain": [
              "<matplotlib.axes._subplots.AxesSubplot at 0x7f96b5963110>"
            ]
          },
          "metadata": {},
          "execution_count": 34
        },
        {
          "output_type": "display_data",
          "data": {
            "text/plain": [
              "<Figure size 432x720 with 1 Axes>"
            ],
            "image/png": "[encoded data removed]"
          },
          "metadata": {
            "needs_background": "light"
          }
        }
      ],
      "source": [
        "df.plot.scatter(x='lng', y='lat', figsize=(6,10), alpha=0.05)"
      ]
    },
    {
      "cell_type": "markdown",
      "metadata": {
        "id": "-QjLfJn9JOzq"
      },
      "source": [
        "#### `h3_to_geo_boundary()`"
      ]
    },
    {
      "cell_type": "markdown",
      "metadata": {
        "id": "ggJkOmcWJOzs"
      },
      "source": [
        "\\We can see how many passengers fall into each H3 hexagon. \n",
        "Aggregation of the passengers"
      ]
    },
    {
      "cell_type": "code",
      "execution_count": null,
      "metadata": {
        "id": "eWIhluT1JOzt"
      },
      "outputs": [],
      "source": [
        "dfh3 = dfh3.drop(columns=['lng', 'lat']).groupby('h3_10').sum()"
      ]
    },
    {
      "cell_type": "markdown",
      "metadata": {
        "id": "jBl3oBD5JOzu"
      },
      "source": [
        "We can now add a H3 hexagonal geometry to each row\n",
        "\n",
        "---\n",
        "\n"
      ]
    },
    {
      "cell_type": "code",
      "execution_count": null,
      "metadata": {
        "colab": {
          "base_uri": "https://localhost:8080/",
          "height": 238
        },
        "id": "AIhnF86WJOzv",
        "outputId": "f1d0a4d8-8f4e-4bbf-e2b0-ac1cafe598c3"
      },
      "outputs": [
        {
          "output_type": "execute_result",
          "data": {
            "text/plain": [
              "                 passenger_count  \\\n",
              "h3_10                              \n",
              "8a2a10010067fff                1   \n",
              "8a2a100124b7fff                1   \n",
              "8a2a1001259ffff                1   \n",
              "8a2a1001531ffff                2   \n",
              "8a2a10018c8ffff                1   \n",
              "\n",
              "                                                          geometry  \n",
              "h3_10                                                               \n",
              "8a2a10010067fff  POLYGON ((-73.85388 40.87385, -73.85479 40.873...  \n",
              "8a2a100124b7fff  POLYGON ((-73.90278 40.87825, -73.90370 40.878...  \n",
              "8a2a1001259ffff  POLYGON ((-73.90158 40.87904, -73.90250 40.878...  \n",
              "8a2a1001531ffff  POLYGON ((-73.82403 40.87046, -73.82494 40.870...  \n",
              "8a2a10018c8ffff  POLYGON ((-73.84667 40.82715, -73.84758 40.827...  "
            ],
            "text/html": [
              "\n",
              "  <div id=\"df-9d23b404-7422-4c09-84f6-49d89f1e710c\">\n",
              "    <div class=\"colab-df-container\">\n",
              "      <div>\n",
              "<style scoped>\n",
              "    .dataframe tbody tr th:only-of-type {\n",
              "        vertical-align: middle;\n",
              "    }\n",
              "\n",
              "    .dataframe tbody tr th {\n",
              "        vertical-align: top;\n",
              "    }\n",
              "\n",
              "    .dataframe thead th {\n",
              "        text-align: right;\n",
              "    }\n",
              "</style>\n",
              "<table border=\"1\" class=\"dataframe\">\n",
              "  <thead>\n",
              "    <tr style=\"text-align: right;\">\n",
              "      <th></th>\n",
              "      <th>passenger_count</th>\n",
              "      <th>geometry</th>\n",
              "    </tr>\n",
              "    <tr>\n",
              "      <th>h3_10</th>\n",
              "      <th></th>\n",
              "      <th></th>\n",
              "    </tr>\n",
              "  </thead>\n",
              "  <tbody>\n",
              "    <tr>\n",
              "      <th>8a2a10010067fff</th>\n",
              "      <td>1</td>\n",
              "      <td>POLYGON ((-73.85388 40.87385, -73.85479 40.873...</td>\n",
              "    </tr>\n",
              "    <tr>\n",
              "      <th>8a2a100124b7fff</th>\n",
              "      <td>1</td>\n",
              "      <td>POLYGON ((-73.90278 40.87825, -73.90370 40.878...</td>\n",
              "    </tr>\n",
              "    <tr>\n",
              "      <th>8a2a1001259ffff</th>\n",
              "      <td>1</td>\n",
              "      <td>POLYGON ((-73.90158 40.87904, -73.90250 40.878...</td>\n",
              "    </tr>\n",
              "    <tr>\n",
              "      <th>8a2a1001531ffff</th>\n",
              "      <td>2</td>\n",
              "      <td>POLYGON ((-73.82403 40.87046, -73.82494 40.870...</td>\n",
              "    </tr>\n",
              "    <tr>\n",
              "      <th>8a2a10018c8ffff</th>\n",
              "      <td>1</td>\n",
              "      <td>POLYGON ((-73.84667 40.82715, -73.84758 40.827...</td>\n",
              "    </tr>\n",
              "  </tbody>\n",
              "</table>\n",
              "</div>\n",
              "      <button class=\"colab-df-convert\" onclick=\"convertToInteractive('df-9d23b404-7422-4c09-84f6-49d89f1e710c')\"\n",
              "              title=\"Convert this dataframe to an interactive table.\"\n",
              "              style=\"display:none;\">\n",
              "        \n",
              "  <svg xmlns=\"http://www.w3.org/2000/svg\" height=\"24px\"viewBox=\"0 0 24 24\"\n",
              "       width=\"24px\">\n",
              "    <path d=\"M0 0h24v24H0V0z\" fill=\"none\"/>\n",
              "    <path d=\"M18.56 5.44l.94 2.06.94-2.06 2.06-.94-2.06-.94-.94-2.06-.94 2.06-2.06.94zm-11 1L8.5 8.5l.94-2.06 2.06-.94-2.06-.94L8.5 2.5l-.94 2.06-2.06.94zm10 10l.94 2.06.94-2.06 2.06-.94-2.06-.94-.94-2.06-.94 2.06-2.06.94z\"/><path d=\"M17.41 7.96l-1.37-1.37c-.4-.4-.92-.59-1.43-.59-.52 0-1.04.2-1.43.59L10.3 9.45l-7.72 7.72c-.78.78-.78 2.05 0 2.83L4 21.41c.39.39.9.59 1.41.59.51 0 1.02-.2 1.41-.59l7.78-7.78 2.81-2.81c.8-.78.8-2.07 0-2.86zM5.41 20L4 18.59l7.72-7.72 1.47 1.35L5.41 20z\"/>\n",
              "  </svg>\n",
              "      </button>\n",
              "      \n",
              "  <style>\n",
              "    .colab-df-container {\n",
              "      display:flex;\n",
              "      flex-wrap:wrap;\n",
              "      gap: 12px;\n",
              "    }\n",
              "\n",
              "    .colab-df-convert {\n",
              "      background-color: #E8F0FE;\n",
              "      border: none;\n",
              "      border-radius: 50%;\n",
              "      cursor: pointer;\n",
              "      display: none;\n",
              "      fill: #1967D2;\n",
              "      height: 32px;\n",
              "      padding: 0 0 0 0;\n",
              "      width: 32px;\n",
              "    }\n",
              "\n",
              "    .colab-df-convert:hover {\n",
              "      background-color: #E2EBFA;\n",
              "      box-shadow: 0px 1px 2px rgba(60, 64, 67, 0.3), 0px 1px 3px 1px rgba(60, 64, 67, 0.15);\n",
              "      fill: #174EA6;\n",
              "    }\n",
              "\n",
              "    [theme=dark] .colab-df-convert {\n",
              "      background-color: #3B4455;\n",
              "      fill: #D2E3FC;\n",
              "    }\n",
              "\n",
              "    [theme=dark] .colab-df-convert:hover {\n",
              "      background-color: #434B5C;\n",
              "      box-shadow: 0px 1px 3px 1px rgba(0, 0, 0, 0.15);\n",
              "      filter: drop-shadow(0px 1px 2px rgba(0, 0, 0, 0.3));\n",
              "      fill: #FFFFFF;\n",
              "    }\n",
              "  </style>\n",
              "\n",
              "      <script>\n",
              "        const buttonEl =\n",
              "          document.querySelector('#df-9d23b404-7422-4c09-84f6-49d89f1e710c button.colab-df-convert');\n",
              "        buttonEl.style.display =\n",
              "          google.colab.kernel.accessAllowed ? 'block' : 'none';\n",
              "\n",
              "        async function convertToInteractive(key) {\n",
              "          const element = document.querySelector('#df-9d23b404-7422-4c09-84f6-49d89f1e710c');\n",
              "          const dataTable =\n",
              "            await google.colab.kernel.invokeFunction('convertToInteractive',\n",
              "                                                     [key], {});\n",
              "          if (!dataTable) return;\n",
              "\n",
              "          const docLinkHtml = 'Like what you see? Visit the ' +\n",
              "            '<a target=\"_blank\" href=https://colab.research.google.com/notebooks/data_table.ipynb>data table notebook</a>'\n",
              "            + ' to learn more about interactive tables.';\n",
              "          element.innerHTML = '';\n",
              "          dataTable['output_type'] = 'display_data';\n",
              "          await google.colab.output.renderOutput(dataTable, element);\n",
              "          const docLink = document.createElement('div');\n",
              "          docLink.innerHTML = docLinkHtml;\n",
              "          element.appendChild(docLink);\n",
              "        }\n",
              "      </script>\n",
              "    </div>\n",
              "  </div>\n",
              "  "
            ]
          },
          "metadata": {},
          "execution_count": 36
        }
      ],
      "source": [
        "gdfh3 = dfh3.h3.h3_to_geo_boundary()\n",
        "gdfh3.head()"
      ]
    },
    {
      "cell_type": "code",
      "execution_count": null,
      "metadata": {
        "colab": {
          "base_uri": "https://localhost:8080/",
          "height": 112
        },
        "id": "pYRNAWnYJOzw",
        "outputId": "e41f24a0-1c6d-4d92-94b0-94f91f9bf75a"
      },
      "outputs": [
        {
          "output_type": "execute_result",
          "data": {
            "text/plain": [
              "<matplotlib.axes._subplots.AxesSubplot at 0x7f96b6116d90>"
            ]
          },
          "metadata": {},
          "execution_count": 37
        },
        {
          "output_type": "display_data",
          "data": {
            "text/plain": [
              "<Figure size 720x720 with 1 Axes>"
            ],
            "image/png": "[encoded data removed]"
          },
          "metadata": {
            "needs_background": "light"
          }
        }
      ],
      "source": [
        "gdfh3.plot(column='passenger_count', figsize=(10, 10))"
      ]
    },
    {
      "cell_type": "markdown",
      "metadata": {
        "id": "YtgFZu66JOzx"
      },
      "source": [
        "#### `h3_to_parent`"
      ]
    },
    {
      "cell_type": "markdown",
      "metadata": {
        "id": "i7Wd6guMJOzy"
      },
      "source": [
        "If we want to perform the analysis on a coarser resolution, we can use `h3_to_parent`"
      ]
    },
    {
      "cell_type": "code",
      "execution_count": null,
      "metadata": {
        "colab": {
          "base_uri": "https://localhost:8080/",
          "height": 238
        },
        "id": "z3vXfYsPJOzz",
        "outputId": "8222e47c-f51e-4f7a-c1ee-73ee71ffcb73"
      },
      "outputs": [
        {
          "output_type": "execute_result",
          "data": {
            "text/plain": [
              "                 passenger_count  \\\n",
              "h3_10                              \n",
              "8a2a10089007fff               17   \n",
              "8a2a1008900ffff              110   \n",
              "8a2a10089017fff                9   \n",
              "8a2a1008901ffff               97   \n",
              "8a2a1008902ffff              117   \n",
              "\n",
              "                                                          geometry  \\\n",
              "h3_10                                                                \n",
              "8a2a10089007fff  POLYGON ((-73.95877 40.78037, -73.95969 40.780...   \n",
              "8a2a1008900ffff  POLYGON ((-73.95843 40.77924, -73.95934 40.779...   \n",
              "8a2a10089017fff  POLYGON ((-73.96032 40.78070, -73.96123 40.780...   \n",
              "8a2a1008901ffff  POLYGON ((-73.95997 40.77958, -73.96088 40.779...   \n",
              "8a2a1008902ffff  POLYGON ((-73.95723 40.78003, -73.95814 40.779...   \n",
              "\n",
              "                           h3_09  \n",
              "h3_10                             \n",
              "8a2a10089007fff  892a1008903ffff  \n",
              "8a2a1008900ffff  892a1008903ffff  \n",
              "8a2a10089017fff  892a1008903ffff  \n",
              "8a2a1008901ffff  892a1008903ffff  \n",
              "8a2a1008902ffff  892a1008903ffff  "
            ],
            "text/html": [
              "\n",
              "  <div id=\"df-191438ec-cb41-4bcc-bf8e-0ab11b1e089a\">\n",
              "    <div class=\"colab-df-container\">\n",
              "      <div>\n",
              "<style scoped>\n",
              "    .dataframe tbody tr th:only-of-type {\n",
              "        vertical-align: middle;\n",
              "    }\n",
              "\n",
              "    .dataframe tbody tr th {\n",
              "        vertical-align: top;\n",
              "    }\n",
              "\n",
              "    .dataframe thead th {\n",
              "        text-align: right;\n",
              "    }\n",
              "</style>\n",
              "<table border=\"1\" class=\"dataframe\">\n",
              "  <thead>\n",
              "    <tr style=\"text-align: right;\">\n",
              "      <th></th>\n",
              "      <th>passenger_count</th>\n",
              "      <th>geometry</th>\n",
              "      <th>h3_09</th>\n",
              "    </tr>\n",
              "    <tr>\n",
              "      <th>h3_10</th>\n",
              "      <th></th>\n",
              "      <th></th>\n",
              "      <th></th>\n",
              "    </tr>\n",
              "  </thead>\n",
              "  <tbody>\n",
              "    <tr>\n",
              "      <th>8a2a10089007fff</th>\n",
              "      <td>17</td>\n",
              "      <td>POLYGON ((-73.95877 40.78037, -73.95969 40.780...</td>\n",
              "      <td>892a1008903ffff</td>\n",
              "    </tr>\n",
              "    <tr>\n",
              "      <th>8a2a1008900ffff</th>\n",
              "      <td>110</td>\n",
              "      <td>POLYGON ((-73.95843 40.77924, -73.95934 40.779...</td>\n",
              "      <td>892a1008903ffff</td>\n",
              "    </tr>\n",
              "    <tr>\n",
              "      <th>8a2a10089017fff</th>\n",
              "      <td>9</td>\n",
              "      <td>POLYGON ((-73.96032 40.78070, -73.96123 40.780...</td>\n",
              "      <td>892a1008903ffff</td>\n",
              "    </tr>\n",
              "    <tr>\n",
              "      <th>8a2a1008901ffff</th>\n",
              "      <td>97</td>\n",
              "      <td>POLYGON ((-73.95997 40.77958, -73.96088 40.779...</td>\n",
              "      <td>892a1008903ffff</td>\n",
              "    </tr>\n",
              "    <tr>\n",
              "      <th>8a2a1008902ffff</th>\n",
              "      <td>117</td>\n",
              "      <td>POLYGON ((-73.95723 40.78003, -73.95814 40.779...</td>\n",
              "      <td>892a1008903ffff</td>\n",
              "    </tr>\n",
              "  </tbody>\n",
              "</table>\n",
              "</div>\n",
              "      <button class=\"colab-df-convert\" onclick=\"convertToInteractive('df-191438ec-cb41-4bcc-bf8e-0ab11b1e089a')\"\n",
              "              title=\"Convert this dataframe to an interactive table.\"\n",
              "              style=\"display:none;\">\n",
              "        \n",
              "  <svg xmlns=\"http://www.w3.org/2000/svg\" height=\"24px\"viewBox=\"0 0 24 24\"\n",
              "       width=\"24px\">\n",
              "    <path d=\"M0 0h24v24H0V0z\" fill=\"none\"/>\n",
              "    <path d=\"M18.56 5.44l.94 2.06.94-2.06 2.06-.94-2.06-.94-.94-2.06-.94 2.06-2.06.94zm-11 1L8.5 8.5l.94-2.06 2.06-.94-2.06-.94L8.5 2.5l-.94 2.06-2.06.94zm10 10l.94 2.06.94-2.06 2.06-.94-2.06-.94-.94-2.06-.94 2.06-2.06.94z\"/><path d=\"M17.41 7.96l-1.37-1.37c-.4-.4-.92-.59-1.43-.59-.52 0-1.04.2-1.43.59L10.3 9.45l-7.72 7.72c-.78.78-.78 2.05 0 2.83L4 21.41c.39.39.9.59 1.41.59.51 0 1.02-.2 1.41-.59l7.78-7.78 2.81-2.81c.8-.78.8-2.07 0-2.86zM5.41 20L4 18.59l7.72-7.72 1.47 1.35L5.41 20z\"/>\n",
              "  </svg>\n",
              "      </button>\n",
              "      \n",
              "  <style>\n",
              "    .colab-df-container {\n",
              "      display:flex;\n",
              "      flex-wrap:wrap;\n",
              "      gap: 12px;\n",
              "    }\n",
              "\n",
              "    .colab-df-convert {\n",
              "      background-color: #E8F0FE;\n",
              "      border: none;\n",
              "      border-radius: 50%;\n",
              "      cursor: pointer;\n",
              "      display: none;\n",
              "      fill: #1967D2;\n",
              "      height: 32px;\n",
              "      padding: 0 0 0 0;\n",
              "      width: 32px;\n",
              "    }\n",
              "\n",
              "    .colab-df-convert:hover {\n",
              "      background-color: #E2EBFA;\n",
              "      box-shadow: 0px 1px 2px rgba(60, 64, 67, 0.3), 0px 1px 3px 1px rgba(60, 64, 67, 0.15);\n",
              "      fill: #174EA6;\n",
              "    }\n",
              "\n",
              "    [theme=dark] .colab-df-convert {\n",
              "      background-color: #3B4455;\n",
              "      fill: #D2E3FC;\n",
              "    }\n",
              "\n",
              "    [theme=dark] .colab-df-convert:hover {\n",
              "      background-color: #434B5C;\n",
              "      box-shadow: 0px 1px 3px 1px rgba(0, 0, 0, 0.15);\n",
              "      filter: drop-shadow(0px 1px 2px rgba(0, 0, 0, 0.3));\n",
              "      fill: #FFFFFF;\n",
              "    }\n",
              "  </style>\n",
              "\n",
              "      <script>\n",
              "        const buttonEl =\n",
              "          document.querySelector('#df-191438ec-cb41-4bcc-bf8e-0ab11b1e089a button.colab-df-convert');\n",
              "        buttonEl.style.display =\n",
              "          google.colab.kernel.accessAllowed ? 'block' : 'none';\n",
              "\n",
              "        async function convertToInteractive(key) {\n",
              "          const element = document.querySelector('#df-191438ec-cb41-4bcc-bf8e-0ab11b1e089a');\n",
              "          const dataTable =\n",
              "            await google.colab.kernel.invokeFunction('convertToInteractive',\n",
              "                                                     [key], {});\n",
              "          if (!dataTable) return;\n",
              "\n",
              "          const docLinkHtml = 'Like what you see? Visit the ' +\n",
              "            '<a target=\"_blank\" href=https://colab.research.google.com/notebooks/data_table.ipynb>data table notebook</a>'\n",
              "            + ' to learn more about interactive tables.';\n",
              "          element.innerHTML = '';\n",
              "          dataTable['output_type'] = 'display_data';\n",
              "          await google.colab.output.renderOutput(dataTable, element);\n",
              "          const docLink = document.createElement('div');\n",
              "          docLink.innerHTML = docLinkHtml;\n",
              "          element.appendChild(docLink);\n",
              "        }\n",
              "      </script>\n",
              "    </div>\n",
              "  </div>\n",
              "  "
            ]
          },
          "metadata": {},
          "execution_count": 28
        }
      ],
      "source": [
        "gdfh3_9 = gdfh3.h3.h3_to_parent(9)\n",
        "gdfh3_9.head()"
      ]
    },
    {
      "cell_type": "code",
      "execution_count": null,
      "metadata": {
        "colab": {
          "base_uri": "https://localhost:8080/",
          "height": 238
        },
        "id": "itgsWKmIJOz1",
        "outputId": "5e6d3eb2-65bb-4cba-9be8-c4ea39c7e8e7"
      },
      "outputs": [
        {
          "output_type": "execute_result",
          "data": {
            "text/plain": [
              "                 passenger_count  \\\n",
              "h3_09                              \n",
              "892a1008903ffff              350   \n",
              "892a1008907ffff              611   \n",
              "892a100890bffff              286   \n",
              "892a100890fffff              686   \n",
              "892a1008917ffff              544   \n",
              "\n",
              "                                                          geometry  \n",
              "h3_09                                                               \n",
              "892a1008903ffff  POLYGON ((-73.95912 40.78149, -73.96123 40.780...  \n",
              "892a1008907ffff  POLYGON ((-73.95688 40.77891, -73.95899 40.777...  \n",
              "892a100890bffff  POLYGON ((-73.96340 40.78138, -73.96551 40.780...  \n",
              "892a100890fffff  POLYGON ((-73.96116 40.77879, -73.96327 40.777...  \n",
              "892a1008917ffff  POLYGON ((-73.95485 40.78160, -73.95695 40.780...  "
            ],
            "text/html": [
              "\n",
              "  <div id=\"df-bee7740d-6c31-4a71-881b-8a8d992e4391\">\n",
              "    <div class=\"colab-df-container\">\n",
              "      <div>\n",
              "<style scoped>\n",
              "    .dataframe tbody tr th:only-of-type {\n",
              "        vertical-align: middle;\n",
              "    }\n",
              "\n",
              "    .dataframe tbody tr th {\n",
              "        vertical-align: top;\n",
              "    }\n",
              "\n",
              "    .dataframe thead th {\n",
              "        text-align: right;\n",
              "    }\n",
              "</style>\n",
              "<table border=\"1\" class=\"dataframe\">\n",
              "  <thead>\n",
              "    <tr style=\"text-align: right;\">\n",
              "      <th></th>\n",
              "      <th>passenger_count</th>\n",
              "      <th>geometry</th>\n",
              "    </tr>\n",
              "    <tr>\n",
              "      <th>h3_09</th>\n",
              "      <th></th>\n",
              "      <th></th>\n",
              "    </tr>\n",
              "  </thead>\n",
              "  <tbody>\n",
              "    <tr>\n",
              "      <th>892a1008903ffff</th>\n",
              "      <td>350</td>\n",
              "      <td>POLYGON ((-73.95912 40.78149, -73.96123 40.780...</td>\n",
              "    </tr>\n",
              "    <tr>\n",
              "      <th>892a1008907ffff</th>\n",
              "      <td>611</td>\n",
              "      <td>POLYGON ((-73.95688 40.77891, -73.95899 40.777...</td>\n",
              "    </tr>\n",
              "    <tr>\n",
              "      <th>892a100890bffff</th>\n",
              "      <td>286</td>\n",
              "      <td>POLYGON ((-73.96340 40.78138, -73.96551 40.780...</td>\n",
              "    </tr>\n",
              "    <tr>\n",
              "      <th>892a100890fffff</th>\n",
              "      <td>686</td>\n",
              "      <td>POLYGON ((-73.96116 40.77879, -73.96327 40.777...</td>\n",
              "    </tr>\n",
              "    <tr>\n",
              "      <th>892a1008917ffff</th>\n",
              "      <td>544</td>\n",
              "      <td>POLYGON ((-73.95485 40.78160, -73.95695 40.780...</td>\n",
              "    </tr>\n",
              "  </tbody>\n",
              "</table>\n",
              "</div>\n",
              "      <button class=\"colab-df-convert\" onclick=\"convertToInteractive('df-bee7740d-6c31-4a71-881b-8a8d992e4391')\"\n",
              "              title=\"Convert this dataframe to an interactive table.\"\n",
              "              style=\"display:none;\">\n",
              "        \n",
              "  <svg xmlns=\"http://www.w3.org/2000/svg\" height=\"24px\"viewBox=\"0 0 24 24\"\n",
              "       width=\"24px\">\n",
              "    <path d=\"M0 0h24v24H0V0z\" fill=\"none\"/>\n",
              "    <path d=\"M18.56 5.44l.94 2.06.94-2.06 2.06-.94-2.06-.94-.94-2.06-.94 2.06-2.06.94zm-11 1L8.5 8.5l.94-2.06 2.06-.94-2.06-.94L8.5 2.5l-.94 2.06-2.06.94zm10 10l.94 2.06.94-2.06 2.06-.94-2.06-.94-.94-2.06-.94 2.06-2.06.94z\"/><path d=\"M17.41 7.96l-1.37-1.37c-.4-.4-.92-.59-1.43-.59-.52 0-1.04.2-1.43.59L10.3 9.45l-7.72 7.72c-.78.78-.78 2.05 0 2.83L4 21.41c.39.39.9.59 1.41.59.51 0 1.02-.2 1.41-.59l7.78-7.78 2.81-2.81c.8-.78.8-2.07 0-2.86zM5.41 20L4 18.59l7.72-7.72 1.47 1.35L5.41 20z\"/>\n",
              "  </svg>\n",
              "      </button>\n",
              "      \n",
              "  <style>\n",
              "    .colab-df-container {\n",
              "      display:flex;\n",
              "      flex-wrap:wrap;\n",
              "      gap: 12px;\n",
              "    }\n",
              "\n",
              "    .colab-df-convert {\n",
              "      background-color: #E8F0FE;\n",
              "      border: none;\n",
              "      border-radius: 50%;\n",
              "      cursor: pointer;\n",
              "      display: none;\n",
              "      fill: #1967D2;\n",
              "      height: 32px;\n",
              "      padding: 0 0 0 0;\n",
              "      width: 32px;\n",
              "    }\n",
              "\n",
              "    .colab-df-convert:hover {\n",
              "      background-color: #E2EBFA;\n",
              "      box-shadow: 0px 1px 2px rgba(60, 64, 67, 0.3), 0px 1px 3px 1px rgba(60, 64, 67, 0.15);\n",
              "      fill: #174EA6;\n",
              "    }\n",
              "\n",
              "    [theme=dark] .colab-df-convert {\n",
              "      background-color: #3B4455;\n",
              "      fill: #D2E3FC;\n",
              "    }\n",
              "\n",
              "    [theme=dark] .colab-df-convert:hover {\n",
              "      background-color: #434B5C;\n",
              "      box-shadow: 0px 1px 3px 1px rgba(0, 0, 0, 0.15);\n",
              "      filter: drop-shadow(0px 1px 2px rgba(0, 0, 0, 0.3));\n",
              "      fill: #FFFFFF;\n",
              "    }\n",
              "  </style>\n",
              "\n",
              "      <script>\n",
              "        const buttonEl =\n",
              "          document.querySelector('#df-bee7740d-6c31-4a71-881b-8a8d992e4391 button.colab-df-convert');\n",
              "        buttonEl.style.display =\n",
              "          google.colab.kernel.accessAllowed ? 'block' : 'none';\n",
              "\n",
              "        async function convertToInteractive(key) {\n",
              "          const element = document.querySelector('#df-bee7740d-6c31-4a71-881b-8a8d992e4391');\n",
              "          const dataTable =\n",
              "            await google.colab.kernel.invokeFunction('convertToInteractive',\n",
              "                                                     [key], {});\n",
              "          if (!dataTable) return;\n",
              "\n",
              "          const docLinkHtml = 'Like what you see? Visit the ' +\n",
              "            '<a target=\"_blank\" href=https://colab.research.google.com/notebooks/data_table.ipynb>data table notebook</a>'\n",
              "            + ' to learn more about interactive tables.';\n",
              "          element.innerHTML = '';\n",
              "          dataTable['output_type'] = 'display_data';\n",
              "          await google.colab.output.renderOutput(dataTable, element);\n",
              "          const docLink = document.createElement('div');\n",
              "          docLink.innerHTML = docLinkHtml;\n",
              "          element.appendChild(docLink);\n",
              "        }\n",
              "      </script>\n",
              "    </div>\n",
              "  </div>\n",
              "  "
            ]
          },
          "metadata": {},
          "execution_count": 29
        }
      ],
      "source": [
        "gdfh3_9 = gdfh3_9.set_index('h3_09').groupby('h3_09').sum().h3.h3_to_geo_boundary()\n",
        "gdfh3_9.head()"
      ]
    },
    {
      "cell_type": "code",
      "execution_count": null,
      "metadata": {
        "colab": {
          "base_uri": "https://localhost:8080/",
          "height": 610
        },
        "id": "jz9plENRJOz3",
        "outputId": "56c646e1-5560-44d1-fc9e-7f181f72a81c"
      },
      "outputs": [
        {
          "output_type": "execute_result",
          "data": {
            "text/plain": [
              "<matplotlib.axes._subplots.AxesSubplot at 0x7f96b62c8710>"
            ]
          },
          "metadata": {},
          "execution_count": 38
        },
        {
          "output_type": "display_data",
          "data": {
            "text/plain": [
              "<Figure size 720x720 with 1 Axes>"
            ],
            "image/png": "[encoded data removed]"
          },
          "metadata": {
            "needs_background": "light"
          }
        }
      ],
      "source": [
        "gdfh3_9.plot(column='passenger_count', figsize=(10, 10))"
      ]
    },
    {
      "cell_type": "markdown",
      "metadata": {
        "id": "w9FRLwvWJOz5"
      },
      "source": [
        "## H3-Pandas Extended API: The same workflow, streamlined"
      ]
    },
    {
      "cell_type": "code",
      "execution_count": null,
      "metadata": {
        "id": "tuj55UGrJOz6"
      },
      "outputs": [],
      "source": [
        "gdfh3_9_alt = df.h3.geo_to_h3_aggregate(10, return_geometry=False).h3.h3_to_parent_aggregate(9)"
      ]
    },
    {
      "cell_type": "code",
      "execution_count": null,
      "metadata": {
        "colab": {
          "base_uri": "https://localhost:8080/",
          "height": 610
        },
        "id": "QaUfRF9wJOz6",
        "outputId": "de3d5cf4-bac8-4ccf-9c04-352257c27d04"
      },
      "outputs": [
        {
          "output_type": "execute_result",
          "data": {
            "text/plain": [
              "<matplotlib.axes._subplots.AxesSubplot at 0x7f96b5f6d450>"
            ]
          },
          "metadata": {},
          "execution_count": 27
        },
        {
          "output_type": "display_data",
          "data": {
            "text/plain": [
              "<Figure size 720x720 with 1 Axes>"
            ],
            "image/png": "[encoded data removed]"
          },
          "metadata": {
            "needs_background": "light"
          }
        }
      ],
      "source": [
        "gdfh3_9_alt.plot(column='passenger_count', figsize=(10, 10))"
      ]
    }
  ],
  "metadata": {
    "kernelspec": {
      "display_name": "Python 3 (ipykernel)",
      "language": "python",
      "name": "python3"
    },
    "language_info": {
      "codemirror_mode": {
        "name": "ipython",
        "version": 3
      },
      "file_extension": ".py",
      "mimetype": "text/x-python",
      "name": "python",
      "nbconvert_exporter": "python",
      "pygments_lexer": "ipython3",
      "version": "3.9.5"
    },
    "colab": {
      "provenance": [],
      "name": "H3patternAnalysis.ipynb",
      "include_colab_link": true
    }
  },
  "nbformat": 4,
  "nbformat_minor": 0
}